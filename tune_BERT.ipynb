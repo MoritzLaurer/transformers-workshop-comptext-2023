{
  "nbformat": 4,
  "nbformat_minor": 0,
  "metadata": {
    "colab": {
      "provenance": [],
      "gpuType": "T4",
      "authorship_tag": "ABX9TyO1mtpbkv+fBRcCw8GopgIO",
      "include_colab_link": true
    },
    "kernelspec": {
      "name": "python3",
      "display_name": "Python 3"
    },
    "language_info": {
      "name": "python"
    },
    "widgets": {
      "application/vnd.jupyter.widget-state+json": {
        "79d33f2dd65042f6a8187b019f779b2a": {
          "model_module": "@jupyter-widgets/controls",
          "model_name": "HBoxModel",
          "model_module_version": "1.5.0",
          "state": {
            "_dom_classes": [],
            "_model_module": "@jupyter-widgets/controls",
            "_model_module_version": "1.5.0",
            "_model_name": "HBoxModel",
            "_view_count": null,
            "_view_module": "@jupyter-widgets/controls",
            "_view_module_version": "1.5.0",
            "_view_name": "HBoxView",
            "box_style": "",
            "children": [
              "IPY_MODEL_c7dc7535a1834a64a5d4e5fdf96eb13b",
              "IPY_MODEL_3fa6a309f7444f9d8e5b4da8803d0900",
              "IPY_MODEL_bff8c67608a4487e8eb0c68e130d81f5"
            ],
            "layout": "IPY_MODEL_84b7a75fec944b5e94cf8095438967f2"
          }
        },
        "c7dc7535a1834a64a5d4e5fdf96eb13b": {
          "model_module": "@jupyter-widgets/controls",
          "model_name": "HTMLModel",
          "model_module_version": "1.5.0",
          "state": {
            "_dom_classes": [],
            "_model_module": "@jupyter-widgets/controls",
            "_model_module_version": "1.5.0",
            "_model_name": "HTMLModel",
            "_view_count": null,
            "_view_module": "@jupyter-widgets/controls",
            "_view_module_version": "1.5.0",
            "_view_name": "HTMLView",
            "description": "",
            "description_tooltip": null,
            "layout": "IPY_MODEL_bd7b992984c24e439f4027c2d6d91a9c",
            "placeholder": "​",
            "style": "IPY_MODEL_5651205a9a6d4c3ca7d928f806c1f8b1",
            "value": "Downloading (…)okenizer_config.json: 100%"
          }
        },
        "3fa6a309f7444f9d8e5b4da8803d0900": {
          "model_module": "@jupyter-widgets/controls",
          "model_name": "FloatProgressModel",
          "model_module_version": "1.5.0",
          "state": {
            "_dom_classes": [],
            "_model_module": "@jupyter-widgets/controls",
            "_model_module_version": "1.5.0",
            "_model_name": "FloatProgressModel",
            "_view_count": null,
            "_view_module": "@jupyter-widgets/controls",
            "_view_module_version": "1.5.0",
            "_view_name": "ProgressView",
            "bar_style": "success",
            "description": "",
            "description_tooltip": null,
            "layout": "IPY_MODEL_6bcfb107c5934da4b6976061ab1751d8",
            "max": 52,
            "min": 0,
            "orientation": "horizontal",
            "style": "IPY_MODEL_e9dc9ec835c74f81aa323531131f076e",
            "value": 52
          }
        },
        "bff8c67608a4487e8eb0c68e130d81f5": {
          "model_module": "@jupyter-widgets/controls",
          "model_name": "HTMLModel",
          "model_module_version": "1.5.0",
          "state": {
            "_dom_classes": [],
            "_model_module": "@jupyter-widgets/controls",
            "_model_module_version": "1.5.0",
            "_model_name": "HTMLModel",
            "_view_count": null,
            "_view_module": "@jupyter-widgets/controls",
            "_view_module_version": "1.5.0",
            "_view_name": "HTMLView",
            "description": "",
            "description_tooltip": null,
            "layout": "IPY_MODEL_f28a5d9f1ba2427b9113bbcf3a02f812",
            "placeholder": "​",
            "style": "IPY_MODEL_758a2fb3eb874eadba49495ed9064d02",
            "value": " 52.0/52.0 [00:00&lt;00:00, 1.83kB/s]"
          }
        },
        "84b7a75fec944b5e94cf8095438967f2": {
          "model_module": "@jupyter-widgets/base",
          "model_name": "LayoutModel",
          "model_module_version": "1.2.0",
          "state": {
            "_model_module": "@jupyter-widgets/base",
            "_model_module_version": "1.2.0",
            "_model_name": "LayoutModel",
            "_view_count": null,
            "_view_module": "@jupyter-widgets/base",
            "_view_module_version": "1.2.0",
            "_view_name": "LayoutView",
            "align_content": null,
            "align_items": null,
            "align_self": null,
            "border": null,
            "bottom": null,
            "display": null,
            "flex": null,
            "flex_flow": null,
            "grid_area": null,
            "grid_auto_columns": null,
            "grid_auto_flow": null,
            "grid_auto_rows": null,
            "grid_column": null,
            "grid_gap": null,
            "grid_row": null,
            "grid_template_areas": null,
            "grid_template_columns": null,
            "grid_template_rows": null,
            "height": null,
            "justify_content": null,
            "justify_items": null,
            "left": null,
            "margin": null,
            "max_height": null,
            "max_width": null,
            "min_height": null,
            "min_width": null,
            "object_fit": null,
            "object_position": null,
            "order": null,
            "overflow": null,
            "overflow_x": null,
            "overflow_y": null,
            "padding": null,
            "right": null,
            "top": null,
            "visibility": null,
            "width": null
          }
        },
        "bd7b992984c24e439f4027c2d6d91a9c": {
          "model_module": "@jupyter-widgets/base",
          "model_name": "LayoutModel",
          "model_module_version": "1.2.0",
          "state": {
            "_model_module": "@jupyter-widgets/base",
            "_model_module_version": "1.2.0",
            "_model_name": "LayoutModel",
            "_view_count": null,
            "_view_module": "@jupyter-widgets/base",
            "_view_module_version": "1.2.0",
            "_view_name": "LayoutView",
            "align_content": null,
            "align_items": null,
            "align_self": null,
            "border": null,
            "bottom": null,
            "display": null,
            "flex": null,
            "flex_flow": null,
            "grid_area": null,
            "grid_auto_columns": null,
            "grid_auto_flow": null,
            "grid_auto_rows": null,
            "grid_column": null,
            "grid_gap": null,
            "grid_row": null,
            "grid_template_areas": null,
            "grid_template_columns": null,
            "grid_template_rows": null,
            "height": null,
            "justify_content": null,
            "justify_items": null,
            "left": null,
            "margin": null,
            "max_height": null,
            "max_width": null,
            "min_height": null,
            "min_width": null,
            "object_fit": null,
            "object_position": null,
            "order": null,
            "overflow": null,
            "overflow_x": null,
            "overflow_y": null,
            "padding": null,
            "right": null,
            "top": null,
            "visibility": null,
            "width": null
          }
        },
        "5651205a9a6d4c3ca7d928f806c1f8b1": {
          "model_module": "@jupyter-widgets/controls",
          "model_name": "DescriptionStyleModel",
          "model_module_version": "1.5.0",
          "state": {
            "_model_module": "@jupyter-widgets/controls",
            "_model_module_version": "1.5.0",
            "_model_name": "DescriptionStyleModel",
            "_view_count": null,
            "_view_module": "@jupyter-widgets/base",
            "_view_module_version": "1.2.0",
            "_view_name": "StyleView",
            "description_width": ""
          }
        },
        "6bcfb107c5934da4b6976061ab1751d8": {
          "model_module": "@jupyter-widgets/base",
          "model_name": "LayoutModel",
          "model_module_version": "1.2.0",
          "state": {
            "_model_module": "@jupyter-widgets/base",
            "_model_module_version": "1.2.0",
            "_model_name": "LayoutModel",
            "_view_count": null,
            "_view_module": "@jupyter-widgets/base",
            "_view_module_version": "1.2.0",
            "_view_name": "LayoutView",
            "align_content": null,
            "align_items": null,
            "align_self": null,
            "border": null,
            "bottom": null,
            "display": null,
            "flex": null,
            "flex_flow": null,
            "grid_area": null,
            "grid_auto_columns": null,
            "grid_auto_flow": null,
            "grid_auto_rows": null,
            "grid_column": null,
            "grid_gap": null,
            "grid_row": null,
            "grid_template_areas": null,
            "grid_template_columns": null,
            "grid_template_rows": null,
            "height": null,
            "justify_content": null,
            "justify_items": null,
            "left": null,
            "margin": null,
            "max_height": null,
            "max_width": null,
            "min_height": null,
            "min_width": null,
            "object_fit": null,
            "object_position": null,
            "order": null,
            "overflow": null,
            "overflow_x": null,
            "overflow_y": null,
            "padding": null,
            "right": null,
            "top": null,
            "visibility": null,
            "width": null
          }
        },
        "e9dc9ec835c74f81aa323531131f076e": {
          "model_module": "@jupyter-widgets/controls",
          "model_name": "ProgressStyleModel",
          "model_module_version": "1.5.0",
          "state": {
            "_model_module": "@jupyter-widgets/controls",
            "_model_module_version": "1.5.0",
            "_model_name": "ProgressStyleModel",
            "_view_count": null,
            "_view_module": "@jupyter-widgets/base",
            "_view_module_version": "1.2.0",
            "_view_name": "StyleView",
            "bar_color": null,
            "description_width": ""
          }
        },
        "f28a5d9f1ba2427b9113bbcf3a02f812": {
          "model_module": "@jupyter-widgets/base",
          "model_name": "LayoutModel",
          "model_module_version": "1.2.0",
          "state": {
            "_model_module": "@jupyter-widgets/base",
            "_model_module_version": "1.2.0",
            "_model_name": "LayoutModel",
            "_view_count": null,
            "_view_module": "@jupyter-widgets/base",
            "_view_module_version": "1.2.0",
            "_view_name": "LayoutView",
            "align_content": null,
            "align_items": null,
            "align_self": null,
            "border": null,
            "bottom": null,
            "display": null,
            "flex": null,
            "flex_flow": null,
            "grid_area": null,
            "grid_auto_columns": null,
            "grid_auto_flow": null,
            "grid_auto_rows": null,
            "grid_column": null,
            "grid_gap": null,
            "grid_row": null,
            "grid_template_areas": null,
            "grid_template_columns": null,
            "grid_template_rows": null,
            "height": null,
            "justify_content": null,
            "justify_items": null,
            "left": null,
            "margin": null,
            "max_height": null,
            "max_width": null,
            "min_height": null,
            "min_width": null,
            "object_fit": null,
            "object_position": null,
            "order": null,
            "overflow": null,
            "overflow_x": null,
            "overflow_y": null,
            "padding": null,
            "right": null,
            "top": null,
            "visibility": null,
            "width": null
          }
        },
        "758a2fb3eb874eadba49495ed9064d02": {
          "model_module": "@jupyter-widgets/controls",
          "model_name": "DescriptionStyleModel",
          "model_module_version": "1.5.0",
          "state": {
            "_model_module": "@jupyter-widgets/controls",
            "_model_module_version": "1.5.0",
            "_model_name": "DescriptionStyleModel",
            "_view_count": null,
            "_view_module": "@jupyter-widgets/base",
            "_view_module_version": "1.2.0",
            "_view_name": "StyleView",
            "description_width": ""
          }
        },
        "4a90e0eb70164b73baa5030f98bf5269": {
          "model_module": "@jupyter-widgets/controls",
          "model_name": "HBoxModel",
          "model_module_version": "1.5.0",
          "state": {
            "_dom_classes": [],
            "_model_module": "@jupyter-widgets/controls",
            "_model_module_version": "1.5.0",
            "_model_name": "HBoxModel",
            "_view_count": null,
            "_view_module": "@jupyter-widgets/controls",
            "_view_module_version": "1.5.0",
            "_view_name": "HBoxView",
            "box_style": "",
            "children": [
              "IPY_MODEL_c9ce3fdda0e741ff891133b2b8a05ac2",
              "IPY_MODEL_5a7dc8196bff425ba90412aa25f842aa",
              "IPY_MODEL_7f7b60b8033542318087dbd2b90982fd"
            ],
            "layout": "IPY_MODEL_3ee1ce5bc17d404aa86d3abe64fa7add"
          }
        },
        "c9ce3fdda0e741ff891133b2b8a05ac2": {
          "model_module": "@jupyter-widgets/controls",
          "model_name": "HTMLModel",
          "model_module_version": "1.5.0",
          "state": {
            "_dom_classes": [],
            "_model_module": "@jupyter-widgets/controls",
            "_model_module_version": "1.5.0",
            "_model_name": "HTMLModel",
            "_view_count": null,
            "_view_module": "@jupyter-widgets/controls",
            "_view_module_version": "1.5.0",
            "_view_name": "HTMLView",
            "description": "",
            "description_tooltip": null,
            "layout": "IPY_MODEL_4f032bf106694b67b12c719a4a2d8977",
            "placeholder": "​",
            "style": "IPY_MODEL_1953e82374a04f4d8fb67eebc3f566f7",
            "value": "Downloading (…)lve/main/config.json: 100%"
          }
        },
        "5a7dc8196bff425ba90412aa25f842aa": {
          "model_module": "@jupyter-widgets/controls",
          "model_name": "FloatProgressModel",
          "model_module_version": "1.5.0",
          "state": {
            "_dom_classes": [],
            "_model_module": "@jupyter-widgets/controls",
            "_model_module_version": "1.5.0",
            "_model_name": "FloatProgressModel",
            "_view_count": null,
            "_view_module": "@jupyter-widgets/controls",
            "_view_module_version": "1.5.0",
            "_view_name": "ProgressView",
            "bar_style": "success",
            "description": "",
            "description_tooltip": null,
            "layout": "IPY_MODEL_19d47bc8589d41b29d6adc6d4851dce4",
            "max": 580,
            "min": 0,
            "orientation": "horizontal",
            "style": "IPY_MODEL_9b5db53d8c854cc582994906b50e533e",
            "value": 580
          }
        },
        "7f7b60b8033542318087dbd2b90982fd": {
          "model_module": "@jupyter-widgets/controls",
          "model_name": "HTMLModel",
          "model_module_version": "1.5.0",
          "state": {
            "_dom_classes": [],
            "_model_module": "@jupyter-widgets/controls",
            "_model_module_version": "1.5.0",
            "_model_name": "HTMLModel",
            "_view_count": null,
            "_view_module": "@jupyter-widgets/controls",
            "_view_module_version": "1.5.0",
            "_view_name": "HTMLView",
            "description": "",
            "description_tooltip": null,
            "layout": "IPY_MODEL_eca0da8827754a19a2b0d20d84c3606a",
            "placeholder": "​",
            "style": "IPY_MODEL_437676fb960c4d1b9433a9444b2d83c3",
            "value": " 580/580 [00:00&lt;00:00, 26.4kB/s]"
          }
        },
        "3ee1ce5bc17d404aa86d3abe64fa7add": {
          "model_module": "@jupyter-widgets/base",
          "model_name": "LayoutModel",
          "model_module_version": "1.2.0",
          "state": {
            "_model_module": "@jupyter-widgets/base",
            "_model_module_version": "1.2.0",
            "_model_name": "LayoutModel",
            "_view_count": null,
            "_view_module": "@jupyter-widgets/base",
            "_view_module_version": "1.2.0",
            "_view_name": "LayoutView",
            "align_content": null,
            "align_items": null,
            "align_self": null,
            "border": null,
            "bottom": null,
            "display": null,
            "flex": null,
            "flex_flow": null,
            "grid_area": null,
            "grid_auto_columns": null,
            "grid_auto_flow": null,
            "grid_auto_rows": null,
            "grid_column": null,
            "grid_gap": null,
            "grid_row": null,
            "grid_template_areas": null,
            "grid_template_columns": null,
            "grid_template_rows": null,
            "height": null,
            "justify_content": null,
            "justify_items": null,
            "left": null,
            "margin": null,
            "max_height": null,
            "max_width": null,
            "min_height": null,
            "min_width": null,
            "object_fit": null,
            "object_position": null,
            "order": null,
            "overflow": null,
            "overflow_x": null,
            "overflow_y": null,
            "padding": null,
            "right": null,
            "top": null,
            "visibility": null,
            "width": null
          }
        },
        "4f032bf106694b67b12c719a4a2d8977": {
          "model_module": "@jupyter-widgets/base",
          "model_name": "LayoutModel",
          "model_module_version": "1.2.0",
          "state": {
            "_model_module": "@jupyter-widgets/base",
            "_model_module_version": "1.2.0",
            "_model_name": "LayoutModel",
            "_view_count": null,
            "_view_module": "@jupyter-widgets/base",
            "_view_module_version": "1.2.0",
            "_view_name": "LayoutView",
            "align_content": null,
            "align_items": null,
            "align_self": null,
            "border": null,
            "bottom": null,
            "display": null,
            "flex": null,
            "flex_flow": null,
            "grid_area": null,
            "grid_auto_columns": null,
            "grid_auto_flow": null,
            "grid_auto_rows": null,
            "grid_column": null,
            "grid_gap": null,
            "grid_row": null,
            "grid_template_areas": null,
            "grid_template_columns": null,
            "grid_template_rows": null,
            "height": null,
            "justify_content": null,
            "justify_items": null,
            "left": null,
            "margin": null,
            "max_height": null,
            "max_width": null,
            "min_height": null,
            "min_width": null,
            "object_fit": null,
            "object_position": null,
            "order": null,
            "overflow": null,
            "overflow_x": null,
            "overflow_y": null,
            "padding": null,
            "right": null,
            "top": null,
            "visibility": null,
            "width": null
          }
        },
        "1953e82374a04f4d8fb67eebc3f566f7": {
          "model_module": "@jupyter-widgets/controls",
          "model_name": "DescriptionStyleModel",
          "model_module_version": "1.5.0",
          "state": {
            "_model_module": "@jupyter-widgets/controls",
            "_model_module_version": "1.5.0",
            "_model_name": "DescriptionStyleModel",
            "_view_count": null,
            "_view_module": "@jupyter-widgets/base",
            "_view_module_version": "1.2.0",
            "_view_name": "StyleView",
            "description_width": ""
          }
        },
        "19d47bc8589d41b29d6adc6d4851dce4": {
          "model_module": "@jupyter-widgets/base",
          "model_name": "LayoutModel",
          "model_module_version": "1.2.0",
          "state": {
            "_model_module": "@jupyter-widgets/base",
            "_model_module_version": "1.2.0",
            "_model_name": "LayoutModel",
            "_view_count": null,
            "_view_module": "@jupyter-widgets/base",
            "_view_module_version": "1.2.0",
            "_view_name": "LayoutView",
            "align_content": null,
            "align_items": null,
            "align_self": null,
            "border": null,
            "bottom": null,
            "display": null,
            "flex": null,
            "flex_flow": null,
            "grid_area": null,
            "grid_auto_columns": null,
            "grid_auto_flow": null,
            "grid_auto_rows": null,
            "grid_column": null,
            "grid_gap": null,
            "grid_row": null,
            "grid_template_areas": null,
            "grid_template_columns": null,
            "grid_template_rows": null,
            "height": null,
            "justify_content": null,
            "justify_items": null,
            "left": null,
            "margin": null,
            "max_height": null,
            "max_width": null,
            "min_height": null,
            "min_width": null,
            "object_fit": null,
            "object_position": null,
            "order": null,
            "overflow": null,
            "overflow_x": null,
            "overflow_y": null,
            "padding": null,
            "right": null,
            "top": null,
            "visibility": null,
            "width": null
          }
        },
        "9b5db53d8c854cc582994906b50e533e": {
          "model_module": "@jupyter-widgets/controls",
          "model_name": "ProgressStyleModel",
          "model_module_version": "1.5.0",
          "state": {
            "_model_module": "@jupyter-widgets/controls",
            "_model_module_version": "1.5.0",
            "_model_name": "ProgressStyleModel",
            "_view_count": null,
            "_view_module": "@jupyter-widgets/base",
            "_view_module_version": "1.2.0",
            "_view_name": "StyleView",
            "bar_color": null,
            "description_width": ""
          }
        },
        "eca0da8827754a19a2b0d20d84c3606a": {
          "model_module": "@jupyter-widgets/base",
          "model_name": "LayoutModel",
          "model_module_version": "1.2.0",
          "state": {
            "_model_module": "@jupyter-widgets/base",
            "_model_module_version": "1.2.0",
            "_model_name": "LayoutModel",
            "_view_count": null,
            "_view_module": "@jupyter-widgets/base",
            "_view_module_version": "1.2.0",
            "_view_name": "LayoutView",
            "align_content": null,
            "align_items": null,
            "align_self": null,
            "border": null,
            "bottom": null,
            "display": null,
            "flex": null,
            "flex_flow": null,
            "grid_area": null,
            "grid_auto_columns": null,
            "grid_auto_flow": null,
            "grid_auto_rows": null,
            "grid_column": null,
            "grid_gap": null,
            "grid_row": null,
            "grid_template_areas": null,
            "grid_template_columns": null,
            "grid_template_rows": null,
            "height": null,
            "justify_content": null,
            "justify_items": null,
            "left": null,
            "margin": null,
            "max_height": null,
            "max_width": null,
            "min_height": null,
            "min_width": null,
            "object_fit": null,
            "object_position": null,
            "order": null,
            "overflow": null,
            "overflow_x": null,
            "overflow_y": null,
            "padding": null,
            "right": null,
            "top": null,
            "visibility": null,
            "width": null
          }
        },
        "437676fb960c4d1b9433a9444b2d83c3": {
          "model_module": "@jupyter-widgets/controls",
          "model_name": "DescriptionStyleModel",
          "model_module_version": "1.5.0",
          "state": {
            "_model_module": "@jupyter-widgets/controls",
            "_model_module_version": "1.5.0",
            "_model_name": "DescriptionStyleModel",
            "_view_count": null,
            "_view_module": "@jupyter-widgets/base",
            "_view_module_version": "1.2.0",
            "_view_name": "StyleView",
            "description_width": ""
          }
        },
        "891d28ea807b425a8f97dad3d4c9e8de": {
          "model_module": "@jupyter-widgets/controls",
          "model_name": "HBoxModel",
          "model_module_version": "1.5.0",
          "state": {
            "_dom_classes": [],
            "_model_module": "@jupyter-widgets/controls",
            "_model_module_version": "1.5.0",
            "_model_name": "HBoxModel",
            "_view_count": null,
            "_view_module": "@jupyter-widgets/controls",
            "_view_module_version": "1.5.0",
            "_view_name": "HBoxView",
            "box_style": "",
            "children": [
              "IPY_MODEL_877ab6a51e5f4b1f9a7f80b2921ec09d",
              "IPY_MODEL_f090af4f698748848d608930c860f091",
              "IPY_MODEL_393eb2dbf3074c6596ed345af91fb164"
            ],
            "layout": "IPY_MODEL_c31651c49a3c4a59a09e59013a650aad"
          }
        },
        "877ab6a51e5f4b1f9a7f80b2921ec09d": {
          "model_module": "@jupyter-widgets/controls",
          "model_name": "HTMLModel",
          "model_module_version": "1.5.0",
          "state": {
            "_dom_classes": [],
            "_model_module": "@jupyter-widgets/controls",
            "_model_module_version": "1.5.0",
            "_model_name": "HTMLModel",
            "_view_count": null,
            "_view_module": "@jupyter-widgets/controls",
            "_view_module_version": "1.5.0",
            "_view_name": "HTMLView",
            "description": "",
            "description_tooltip": null,
            "layout": "IPY_MODEL_2f1be67f17804915b38bfe90cfe32d8b",
            "placeholder": "​",
            "style": "IPY_MODEL_af8c61d140c74627bb7e554ce4fbe87c",
            "value": "Downloading spm.model: 100%"
          }
        },
        "f090af4f698748848d608930c860f091": {
          "model_module": "@jupyter-widgets/controls",
          "model_name": "FloatProgressModel",
          "model_module_version": "1.5.0",
          "state": {
            "_dom_classes": [],
            "_model_module": "@jupyter-widgets/controls",
            "_model_module_version": "1.5.0",
            "_model_name": "FloatProgressModel",
            "_view_count": null,
            "_view_module": "@jupyter-widgets/controls",
            "_view_module_version": "1.5.0",
            "_view_name": "ProgressView",
            "bar_style": "success",
            "description": "",
            "description_tooltip": null,
            "layout": "IPY_MODEL_a09a1d54c04040548c6840e3cab3e8dc",
            "max": 2464616,
            "min": 0,
            "orientation": "horizontal",
            "style": "IPY_MODEL_c4b3f9073dd24b84a6851b966f3be1db",
            "value": 2464616
          }
        },
        "393eb2dbf3074c6596ed345af91fb164": {
          "model_module": "@jupyter-widgets/controls",
          "model_name": "HTMLModel",
          "model_module_version": "1.5.0",
          "state": {
            "_dom_classes": [],
            "_model_module": "@jupyter-widgets/controls",
            "_model_module_version": "1.5.0",
            "_model_name": "HTMLModel",
            "_view_count": null,
            "_view_module": "@jupyter-widgets/controls",
            "_view_module_version": "1.5.0",
            "_view_name": "HTMLView",
            "description": "",
            "description_tooltip": null,
            "layout": "IPY_MODEL_e37be8484fc14a5097cf6e71e42b76f8",
            "placeholder": "​",
            "style": "IPY_MODEL_01b8dbef606b44ac9da928ef0d9b4ca8",
            "value": " 2.46M/2.46M [00:00&lt;00:00, 23.0MB/s]"
          }
        },
        "c31651c49a3c4a59a09e59013a650aad": {
          "model_module": "@jupyter-widgets/base",
          "model_name": "LayoutModel",
          "model_module_version": "1.2.0",
          "state": {
            "_model_module": "@jupyter-widgets/base",
            "_model_module_version": "1.2.0",
            "_model_name": "LayoutModel",
            "_view_count": null,
            "_view_module": "@jupyter-widgets/base",
            "_view_module_version": "1.2.0",
            "_view_name": "LayoutView",
            "align_content": null,
            "align_items": null,
            "align_self": null,
            "border": null,
            "bottom": null,
            "display": null,
            "flex": null,
            "flex_flow": null,
            "grid_area": null,
            "grid_auto_columns": null,
            "grid_auto_flow": null,
            "grid_auto_rows": null,
            "grid_column": null,
            "grid_gap": null,
            "grid_row": null,
            "grid_template_areas": null,
            "grid_template_columns": null,
            "grid_template_rows": null,
            "height": null,
            "justify_content": null,
            "justify_items": null,
            "left": null,
            "margin": null,
            "max_height": null,
            "max_width": null,
            "min_height": null,
            "min_width": null,
            "object_fit": null,
            "object_position": null,
            "order": null,
            "overflow": null,
            "overflow_x": null,
            "overflow_y": null,
            "padding": null,
            "right": null,
            "top": null,
            "visibility": null,
            "width": null
          }
        },
        "2f1be67f17804915b38bfe90cfe32d8b": {
          "model_module": "@jupyter-widgets/base",
          "model_name": "LayoutModel",
          "model_module_version": "1.2.0",
          "state": {
            "_model_module": "@jupyter-widgets/base",
            "_model_module_version": "1.2.0",
            "_model_name": "LayoutModel",
            "_view_count": null,
            "_view_module": "@jupyter-widgets/base",
            "_view_module_version": "1.2.0",
            "_view_name": "LayoutView",
            "align_content": null,
            "align_items": null,
            "align_self": null,
            "border": null,
            "bottom": null,
            "display": null,
            "flex": null,
            "flex_flow": null,
            "grid_area": null,
            "grid_auto_columns": null,
            "grid_auto_flow": null,
            "grid_auto_rows": null,
            "grid_column": null,
            "grid_gap": null,
            "grid_row": null,
            "grid_template_areas": null,
            "grid_template_columns": null,
            "grid_template_rows": null,
            "height": null,
            "justify_content": null,
            "justify_items": null,
            "left": null,
            "margin": null,
            "max_height": null,
            "max_width": null,
            "min_height": null,
            "min_width": null,
            "object_fit": null,
            "object_position": null,
            "order": null,
            "overflow": null,
            "overflow_x": null,
            "overflow_y": null,
            "padding": null,
            "right": null,
            "top": null,
            "visibility": null,
            "width": null
          }
        },
        "af8c61d140c74627bb7e554ce4fbe87c": {
          "model_module": "@jupyter-widgets/controls",
          "model_name": "DescriptionStyleModel",
          "model_module_version": "1.5.0",
          "state": {
            "_model_module": "@jupyter-widgets/controls",
            "_model_module_version": "1.5.0",
            "_model_name": "DescriptionStyleModel",
            "_view_count": null,
            "_view_module": "@jupyter-widgets/base",
            "_view_module_version": "1.2.0",
            "_view_name": "StyleView",
            "description_width": ""
          }
        },
        "a09a1d54c04040548c6840e3cab3e8dc": {
          "model_module": "@jupyter-widgets/base",
          "model_name": "LayoutModel",
          "model_module_version": "1.2.0",
          "state": {
            "_model_module": "@jupyter-widgets/base",
            "_model_module_version": "1.2.0",
            "_model_name": "LayoutModel",
            "_view_count": null,
            "_view_module": "@jupyter-widgets/base",
            "_view_module_version": "1.2.0",
            "_view_name": "LayoutView",
            "align_content": null,
            "align_items": null,
            "align_self": null,
            "border": null,
            "bottom": null,
            "display": null,
            "flex": null,
            "flex_flow": null,
            "grid_area": null,
            "grid_auto_columns": null,
            "grid_auto_flow": null,
            "grid_auto_rows": null,
            "grid_column": null,
            "grid_gap": null,
            "grid_row": null,
            "grid_template_areas": null,
            "grid_template_columns": null,
            "grid_template_rows": null,
            "height": null,
            "justify_content": null,
            "justify_items": null,
            "left": null,
            "margin": null,
            "max_height": null,
            "max_width": null,
            "min_height": null,
            "min_width": null,
            "object_fit": null,
            "object_position": null,
            "order": null,
            "overflow": null,
            "overflow_x": null,
            "overflow_y": null,
            "padding": null,
            "right": null,
            "top": null,
            "visibility": null,
            "width": null
          }
        },
        "c4b3f9073dd24b84a6851b966f3be1db": {
          "model_module": "@jupyter-widgets/controls",
          "model_name": "ProgressStyleModel",
          "model_module_version": "1.5.0",
          "state": {
            "_model_module": "@jupyter-widgets/controls",
            "_model_module_version": "1.5.0",
            "_model_name": "ProgressStyleModel",
            "_view_count": null,
            "_view_module": "@jupyter-widgets/base",
            "_view_module_version": "1.2.0",
            "_view_name": "StyleView",
            "bar_color": null,
            "description_width": ""
          }
        },
        "e37be8484fc14a5097cf6e71e42b76f8": {
          "model_module": "@jupyter-widgets/base",
          "model_name": "LayoutModel",
          "model_module_version": "1.2.0",
          "state": {
            "_model_module": "@jupyter-widgets/base",
            "_model_module_version": "1.2.0",
            "_model_name": "LayoutModel",
            "_view_count": null,
            "_view_module": "@jupyter-widgets/base",
            "_view_module_version": "1.2.0",
            "_view_name": "LayoutView",
            "align_content": null,
            "align_items": null,
            "align_self": null,
            "border": null,
            "bottom": null,
            "display": null,
            "flex": null,
            "flex_flow": null,
            "grid_area": null,
            "grid_auto_columns": null,
            "grid_auto_flow": null,
            "grid_auto_rows": null,
            "grid_column": null,
            "grid_gap": null,
            "grid_row": null,
            "grid_template_areas": null,
            "grid_template_columns": null,
            "grid_template_rows": null,
            "height": null,
            "justify_content": null,
            "justify_items": null,
            "left": null,
            "margin": null,
            "max_height": null,
            "max_width": null,
            "min_height": null,
            "min_width": null,
            "object_fit": null,
            "object_position": null,
            "order": null,
            "overflow": null,
            "overflow_x": null,
            "overflow_y": null,
            "padding": null,
            "right": null,
            "top": null,
            "visibility": null,
            "width": null
          }
        },
        "01b8dbef606b44ac9da928ef0d9b4ca8": {
          "model_module": "@jupyter-widgets/controls",
          "model_name": "DescriptionStyleModel",
          "model_module_version": "1.5.0",
          "state": {
            "_model_module": "@jupyter-widgets/controls",
            "_model_module_version": "1.5.0",
            "_model_name": "DescriptionStyleModel",
            "_view_count": null,
            "_view_module": "@jupyter-widgets/base",
            "_view_module_version": "1.2.0",
            "_view_name": "StyleView",
            "description_width": ""
          }
        },
        "0c5a60c846124543b53b6c3f35177e92": {
          "model_module": "@jupyter-widgets/controls",
          "model_name": "HBoxModel",
          "model_module_version": "1.5.0",
          "state": {
            "_dom_classes": [],
            "_model_module": "@jupyter-widgets/controls",
            "_model_module_version": "1.5.0",
            "_model_name": "HBoxModel",
            "_view_count": null,
            "_view_module": "@jupyter-widgets/controls",
            "_view_module_version": "1.5.0",
            "_view_name": "HBoxView",
            "box_style": "",
            "children": [
              "IPY_MODEL_d088dec8eaae4d3eb48835297196651e",
              "IPY_MODEL_83ed3b0c4a1f4e7fa29c6c140dc8313d",
              "IPY_MODEL_eaf94bd47bff434694f4fda1912396f5"
            ],
            "layout": "IPY_MODEL_04d2c713be1b4eba8f6cc0cefa114a0b"
          }
        },
        "d088dec8eaae4d3eb48835297196651e": {
          "model_module": "@jupyter-widgets/controls",
          "model_name": "HTMLModel",
          "model_module_version": "1.5.0",
          "state": {
            "_dom_classes": [],
            "_model_module": "@jupyter-widgets/controls",
            "_model_module_version": "1.5.0",
            "_model_name": "HTMLModel",
            "_view_count": null,
            "_view_module": "@jupyter-widgets/controls",
            "_view_module_version": "1.5.0",
            "_view_name": "HTMLView",
            "description": "",
            "description_tooltip": null,
            "layout": "IPY_MODEL_aa4f364e062d470a83e2291d124069a2",
            "placeholder": "​",
            "style": "IPY_MODEL_8eb4ab81de8e4b03b5ac44c3c4af742f",
            "value": "Downloading pytorch_model.bin: 100%"
          }
        },
        "83ed3b0c4a1f4e7fa29c6c140dc8313d": {
          "model_module": "@jupyter-widgets/controls",
          "model_name": "FloatProgressModel",
          "model_module_version": "1.5.0",
          "state": {
            "_dom_classes": [],
            "_model_module": "@jupyter-widgets/controls",
            "_model_module_version": "1.5.0",
            "_model_name": "FloatProgressModel",
            "_view_count": null,
            "_view_module": "@jupyter-widgets/controls",
            "_view_module_version": "1.5.0",
            "_view_name": "ProgressView",
            "bar_style": "success",
            "description": "",
            "description_tooltip": null,
            "layout": "IPY_MODEL_9fae0d55d5a54cd4a5e44b8898ff0fa8",
            "max": 873673253,
            "min": 0,
            "orientation": "horizontal",
            "style": "IPY_MODEL_2bd8e99d3abb4d96810c9917ee19c048",
            "value": 873673253
          }
        },
        "eaf94bd47bff434694f4fda1912396f5": {
          "model_module": "@jupyter-widgets/controls",
          "model_name": "HTMLModel",
          "model_module_version": "1.5.0",
          "state": {
            "_dom_classes": [],
            "_model_module": "@jupyter-widgets/controls",
            "_model_module_version": "1.5.0",
            "_model_name": "HTMLModel",
            "_view_count": null,
            "_view_module": "@jupyter-widgets/controls",
            "_view_module_version": "1.5.0",
            "_view_name": "HTMLView",
            "description": "",
            "description_tooltip": null,
            "layout": "IPY_MODEL_5fc63ffa26c6432f9a59bec1d111d375",
            "placeholder": "​",
            "style": "IPY_MODEL_069ed4a486af45468bf5220f2d8df222",
            "value": " 874M/874M [00:05&lt;00:00, 145MB/s]"
          }
        },
        "04d2c713be1b4eba8f6cc0cefa114a0b": {
          "model_module": "@jupyter-widgets/base",
          "model_name": "LayoutModel",
          "model_module_version": "1.2.0",
          "state": {
            "_model_module": "@jupyter-widgets/base",
            "_model_module_version": "1.2.0",
            "_model_name": "LayoutModel",
            "_view_count": null,
            "_view_module": "@jupyter-widgets/base",
            "_view_module_version": "1.2.0",
            "_view_name": "LayoutView",
            "align_content": null,
            "align_items": null,
            "align_self": null,
            "border": null,
            "bottom": null,
            "display": null,
            "flex": null,
            "flex_flow": null,
            "grid_area": null,
            "grid_auto_columns": null,
            "grid_auto_flow": null,
            "grid_auto_rows": null,
            "grid_column": null,
            "grid_gap": null,
            "grid_row": null,
            "grid_template_areas": null,
            "grid_template_columns": null,
            "grid_template_rows": null,
            "height": null,
            "justify_content": null,
            "justify_items": null,
            "left": null,
            "margin": null,
            "max_height": null,
            "max_width": null,
            "min_height": null,
            "min_width": null,
            "object_fit": null,
            "object_position": null,
            "order": null,
            "overflow": null,
            "overflow_x": null,
            "overflow_y": null,
            "padding": null,
            "right": null,
            "top": null,
            "visibility": null,
            "width": null
          }
        },
        "aa4f364e062d470a83e2291d124069a2": {
          "model_module": "@jupyter-widgets/base",
          "model_name": "LayoutModel",
          "model_module_version": "1.2.0",
          "state": {
            "_model_module": "@jupyter-widgets/base",
            "_model_module_version": "1.2.0",
            "_model_name": "LayoutModel",
            "_view_count": null,
            "_view_module": "@jupyter-widgets/base",
            "_view_module_version": "1.2.0",
            "_view_name": "LayoutView",
            "align_content": null,
            "align_items": null,
            "align_self": null,
            "border": null,
            "bottom": null,
            "display": null,
            "flex": null,
            "flex_flow": null,
            "grid_area": null,
            "grid_auto_columns": null,
            "grid_auto_flow": null,
            "grid_auto_rows": null,
            "grid_column": null,
            "grid_gap": null,
            "grid_row": null,
            "grid_template_areas": null,
            "grid_template_columns": null,
            "grid_template_rows": null,
            "height": null,
            "justify_content": null,
            "justify_items": null,
            "left": null,
            "margin": null,
            "max_height": null,
            "max_width": null,
            "min_height": null,
            "min_width": null,
            "object_fit": null,
            "object_position": null,
            "order": null,
            "overflow": null,
            "overflow_x": null,
            "overflow_y": null,
            "padding": null,
            "right": null,
            "top": null,
            "visibility": null,
            "width": null
          }
        },
        "8eb4ab81de8e4b03b5ac44c3c4af742f": {
          "model_module": "@jupyter-widgets/controls",
          "model_name": "DescriptionStyleModel",
          "model_module_version": "1.5.0",
          "state": {
            "_model_module": "@jupyter-widgets/controls",
            "_model_module_version": "1.5.0",
            "_model_name": "DescriptionStyleModel",
            "_view_count": null,
            "_view_module": "@jupyter-widgets/base",
            "_view_module_version": "1.2.0",
            "_view_name": "StyleView",
            "description_width": ""
          }
        },
        "9fae0d55d5a54cd4a5e44b8898ff0fa8": {
          "model_module": "@jupyter-widgets/base",
          "model_name": "LayoutModel",
          "model_module_version": "1.2.0",
          "state": {
            "_model_module": "@jupyter-widgets/base",
            "_model_module_version": "1.2.0",
            "_model_name": "LayoutModel",
            "_view_count": null,
            "_view_module": "@jupyter-widgets/base",
            "_view_module_version": "1.2.0",
            "_view_name": "LayoutView",
            "align_content": null,
            "align_items": null,
            "align_self": null,
            "border": null,
            "bottom": null,
            "display": null,
            "flex": null,
            "flex_flow": null,
            "grid_area": null,
            "grid_auto_columns": null,
            "grid_auto_flow": null,
            "grid_auto_rows": null,
            "grid_column": null,
            "grid_gap": null,
            "grid_row": null,
            "grid_template_areas": null,
            "grid_template_columns": null,
            "grid_template_rows": null,
            "height": null,
            "justify_content": null,
            "justify_items": null,
            "left": null,
            "margin": null,
            "max_height": null,
            "max_width": null,
            "min_height": null,
            "min_width": null,
            "object_fit": null,
            "object_position": null,
            "order": null,
            "overflow": null,
            "overflow_x": null,
            "overflow_y": null,
            "padding": null,
            "right": null,
            "top": null,
            "visibility": null,
            "width": null
          }
        },
        "2bd8e99d3abb4d96810c9917ee19c048": {
          "model_module": "@jupyter-widgets/controls",
          "model_name": "ProgressStyleModel",
          "model_module_version": "1.5.0",
          "state": {
            "_model_module": "@jupyter-widgets/controls",
            "_model_module_version": "1.5.0",
            "_model_name": "ProgressStyleModel",
            "_view_count": null,
            "_view_module": "@jupyter-widgets/base",
            "_view_module_version": "1.2.0",
            "_view_name": "StyleView",
            "bar_color": null,
            "description_width": ""
          }
        },
        "5fc63ffa26c6432f9a59bec1d111d375": {
          "model_module": "@jupyter-widgets/base",
          "model_name": "LayoutModel",
          "model_module_version": "1.2.0",
          "state": {
            "_model_module": "@jupyter-widgets/base",
            "_model_module_version": "1.2.0",
            "_model_name": "LayoutModel",
            "_view_count": null,
            "_view_module": "@jupyter-widgets/base",
            "_view_module_version": "1.2.0",
            "_view_name": "LayoutView",
            "align_content": null,
            "align_items": null,
            "align_self": null,
            "border": null,
            "bottom": null,
            "display": null,
            "flex": null,
            "flex_flow": null,
            "grid_area": null,
            "grid_auto_columns": null,
            "grid_auto_flow": null,
            "grid_auto_rows": null,
            "grid_column": null,
            "grid_gap": null,
            "grid_row": null,
            "grid_template_areas": null,
            "grid_template_columns": null,
            "grid_template_rows": null,
            "height": null,
            "justify_content": null,
            "justify_items": null,
            "left": null,
            "margin": null,
            "max_height": null,
            "max_width": null,
            "min_height": null,
            "min_width": null,
            "object_fit": null,
            "object_position": null,
            "order": null,
            "overflow": null,
            "overflow_x": null,
            "overflow_y": null,
            "padding": null,
            "right": null,
            "top": null,
            "visibility": null,
            "width": null
          }
        },
        "069ed4a486af45468bf5220f2d8df222": {
          "model_module": "@jupyter-widgets/controls",
          "model_name": "DescriptionStyleModel",
          "model_module_version": "1.5.0",
          "state": {
            "_model_module": "@jupyter-widgets/controls",
            "_model_module_version": "1.5.0",
            "_model_name": "DescriptionStyleModel",
            "_view_count": null,
            "_view_module": "@jupyter-widgets/base",
            "_view_module_version": "1.2.0",
            "_view_name": "StyleView",
            "description_width": ""
          }
        },
        "ebe0280c1bca47b3842ad9e15bd6ba3f": {
          "model_module": "@jupyter-widgets/controls",
          "model_name": "HBoxModel",
          "model_module_version": "1.5.0",
          "state": {
            "_dom_classes": [],
            "_model_module": "@jupyter-widgets/controls",
            "_model_module_version": "1.5.0",
            "_model_name": "HBoxModel",
            "_view_count": null,
            "_view_module": "@jupyter-widgets/controls",
            "_view_module_version": "1.5.0",
            "_view_name": "HBoxView",
            "box_style": "",
            "children": [
              "IPY_MODEL_3183ca2bca2345f2990196311986b7a9",
              "IPY_MODEL_e9bd7fa18b9346e38230000fb477b2e5",
              "IPY_MODEL_b8c33fae76ef407f9aa2b3a4f09b5665"
            ],
            "layout": "IPY_MODEL_121dcbc899844fdc90846e9da428a396"
          }
        },
        "3183ca2bca2345f2990196311986b7a9": {
          "model_module": "@jupyter-widgets/controls",
          "model_name": "HTMLModel",
          "model_module_version": "1.5.0",
          "state": {
            "_dom_classes": [],
            "_model_module": "@jupyter-widgets/controls",
            "_model_module_version": "1.5.0",
            "_model_name": "HTMLModel",
            "_view_count": null,
            "_view_module": "@jupyter-widgets/controls",
            "_view_module_version": "1.5.0",
            "_view_name": "HTMLView",
            "description": "",
            "description_tooltip": null,
            "layout": "IPY_MODEL_9bedd726de0b4e7eb15e60d00f6457fa",
            "placeholder": "​",
            "style": "IPY_MODEL_dc7ee433295b467685f24047d83bb380",
            "value": "Map: 100%"
          }
        },
        "e9bd7fa18b9346e38230000fb477b2e5": {
          "model_module": "@jupyter-widgets/controls",
          "model_name": "FloatProgressModel",
          "model_module_version": "1.5.0",
          "state": {
            "_dom_classes": [],
            "_model_module": "@jupyter-widgets/controls",
            "_model_module_version": "1.5.0",
            "_model_name": "FloatProgressModel",
            "_view_count": null,
            "_view_module": "@jupyter-widgets/controls",
            "_view_module_version": "1.5.0",
            "_view_name": "ProgressView",
            "bar_style": "",
            "description": "",
            "description_tooltip": null,
            "layout": "IPY_MODEL_3c67b8058daf4611b7508e4b7b5c756d",
            "max": 1000,
            "min": 0,
            "orientation": "horizontal",
            "style": "IPY_MODEL_8d041b7d51dc4040bec2aa8006d3bca4",
            "value": 1000
          }
        },
        "b8c33fae76ef407f9aa2b3a4f09b5665": {
          "model_module": "@jupyter-widgets/controls",
          "model_name": "HTMLModel",
          "model_module_version": "1.5.0",
          "state": {
            "_dom_classes": [],
            "_model_module": "@jupyter-widgets/controls",
            "_model_module_version": "1.5.0",
            "_model_name": "HTMLModel",
            "_view_count": null,
            "_view_module": "@jupyter-widgets/controls",
            "_view_module_version": "1.5.0",
            "_view_name": "HTMLView",
            "description": "",
            "description_tooltip": null,
            "layout": "IPY_MODEL_5cc23167cc694f1b80a7bd431867fe0d",
            "placeholder": "​",
            "style": "IPY_MODEL_efc4f73cc1a9455e93d88c179a19839d",
            "value": " 1000/1000 [00:00&lt;00:00, 1391.66 examples/s]"
          }
        },
        "121dcbc899844fdc90846e9da428a396": {
          "model_module": "@jupyter-widgets/base",
          "model_name": "LayoutModel",
          "model_module_version": "1.2.0",
          "state": {
            "_model_module": "@jupyter-widgets/base",
            "_model_module_version": "1.2.0",
            "_model_name": "LayoutModel",
            "_view_count": null,
            "_view_module": "@jupyter-widgets/base",
            "_view_module_version": "1.2.0",
            "_view_name": "LayoutView",
            "align_content": null,
            "align_items": null,
            "align_self": null,
            "border": null,
            "bottom": null,
            "display": null,
            "flex": null,
            "flex_flow": null,
            "grid_area": null,
            "grid_auto_columns": null,
            "grid_auto_flow": null,
            "grid_auto_rows": null,
            "grid_column": null,
            "grid_gap": null,
            "grid_row": null,
            "grid_template_areas": null,
            "grid_template_columns": null,
            "grid_template_rows": null,
            "height": null,
            "justify_content": null,
            "justify_items": null,
            "left": null,
            "margin": null,
            "max_height": null,
            "max_width": null,
            "min_height": null,
            "min_width": null,
            "object_fit": null,
            "object_position": null,
            "order": null,
            "overflow": null,
            "overflow_x": null,
            "overflow_y": null,
            "padding": null,
            "right": null,
            "top": null,
            "visibility": "hidden",
            "width": null
          }
        },
        "9bedd726de0b4e7eb15e60d00f6457fa": {
          "model_module": "@jupyter-widgets/base",
          "model_name": "LayoutModel",
          "model_module_version": "1.2.0",
          "state": {
            "_model_module": "@jupyter-widgets/base",
            "_model_module_version": "1.2.0",
            "_model_name": "LayoutModel",
            "_view_count": null,
            "_view_module": "@jupyter-widgets/base",
            "_view_module_version": "1.2.0",
            "_view_name": "LayoutView",
            "align_content": null,
            "align_items": null,
            "align_self": null,
            "border": null,
            "bottom": null,
            "display": null,
            "flex": null,
            "flex_flow": null,
            "grid_area": null,
            "grid_auto_columns": null,
            "grid_auto_flow": null,
            "grid_auto_rows": null,
            "grid_column": null,
            "grid_gap": null,
            "grid_row": null,
            "grid_template_areas": null,
            "grid_template_columns": null,
            "grid_template_rows": null,
            "height": null,
            "justify_content": null,
            "justify_items": null,
            "left": null,
            "margin": null,
            "max_height": null,
            "max_width": null,
            "min_height": null,
            "min_width": null,
            "object_fit": null,
            "object_position": null,
            "order": null,
            "overflow": null,
            "overflow_x": null,
            "overflow_y": null,
            "padding": null,
            "right": null,
            "top": null,
            "visibility": null,
            "width": null
          }
        },
        "dc7ee433295b467685f24047d83bb380": {
          "model_module": "@jupyter-widgets/controls",
          "model_name": "DescriptionStyleModel",
          "model_module_version": "1.5.0",
          "state": {
            "_model_module": "@jupyter-widgets/controls",
            "_model_module_version": "1.5.0",
            "_model_name": "DescriptionStyleModel",
            "_view_count": null,
            "_view_module": "@jupyter-widgets/base",
            "_view_module_version": "1.2.0",
            "_view_name": "StyleView",
            "description_width": ""
          }
        },
        "3c67b8058daf4611b7508e4b7b5c756d": {
          "model_module": "@jupyter-widgets/base",
          "model_name": "LayoutModel",
          "model_module_version": "1.2.0",
          "state": {
            "_model_module": "@jupyter-widgets/base",
            "_model_module_version": "1.2.0",
            "_model_name": "LayoutModel",
            "_view_count": null,
            "_view_module": "@jupyter-widgets/base",
            "_view_module_version": "1.2.0",
            "_view_name": "LayoutView",
            "align_content": null,
            "align_items": null,
            "align_self": null,
            "border": null,
            "bottom": null,
            "display": null,
            "flex": null,
            "flex_flow": null,
            "grid_area": null,
            "grid_auto_columns": null,
            "grid_auto_flow": null,
            "grid_auto_rows": null,
            "grid_column": null,
            "grid_gap": null,
            "grid_row": null,
            "grid_template_areas": null,
            "grid_template_columns": null,
            "grid_template_rows": null,
            "height": null,
            "justify_content": null,
            "justify_items": null,
            "left": null,
            "margin": null,
            "max_height": null,
            "max_width": null,
            "min_height": null,
            "min_width": null,
            "object_fit": null,
            "object_position": null,
            "order": null,
            "overflow": null,
            "overflow_x": null,
            "overflow_y": null,
            "padding": null,
            "right": null,
            "top": null,
            "visibility": null,
            "width": null
          }
        },
        "8d041b7d51dc4040bec2aa8006d3bca4": {
          "model_module": "@jupyter-widgets/controls",
          "model_name": "ProgressStyleModel",
          "model_module_version": "1.5.0",
          "state": {
            "_model_module": "@jupyter-widgets/controls",
            "_model_module_version": "1.5.0",
            "_model_name": "ProgressStyleModel",
            "_view_count": null,
            "_view_module": "@jupyter-widgets/base",
            "_view_module_version": "1.2.0",
            "_view_name": "StyleView",
            "bar_color": null,
            "description_width": ""
          }
        },
        "5cc23167cc694f1b80a7bd431867fe0d": {
          "model_module": "@jupyter-widgets/base",
          "model_name": "LayoutModel",
          "model_module_version": "1.2.0",
          "state": {
            "_model_module": "@jupyter-widgets/base",
            "_model_module_version": "1.2.0",
            "_model_name": "LayoutModel",
            "_view_count": null,
            "_view_module": "@jupyter-widgets/base",
            "_view_module_version": "1.2.0",
            "_view_name": "LayoutView",
            "align_content": null,
            "align_items": null,
            "align_self": null,
            "border": null,
            "bottom": null,
            "display": null,
            "flex": null,
            "flex_flow": null,
            "grid_area": null,
            "grid_auto_columns": null,
            "grid_auto_flow": null,
            "grid_auto_rows": null,
            "grid_column": null,
            "grid_gap": null,
            "grid_row": null,
            "grid_template_areas": null,
            "grid_template_columns": null,
            "grid_template_rows": null,
            "height": null,
            "justify_content": null,
            "justify_items": null,
            "left": null,
            "margin": null,
            "max_height": null,
            "max_width": null,
            "min_height": null,
            "min_width": null,
            "object_fit": null,
            "object_position": null,
            "order": null,
            "overflow": null,
            "overflow_x": null,
            "overflow_y": null,
            "padding": null,
            "right": null,
            "top": null,
            "visibility": null,
            "width": null
          }
        },
        "efc4f73cc1a9455e93d88c179a19839d": {
          "model_module": "@jupyter-widgets/controls",
          "model_name": "DescriptionStyleModel",
          "model_module_version": "1.5.0",
          "state": {
            "_model_module": "@jupyter-widgets/controls",
            "_model_module_version": "1.5.0",
            "_model_name": "DescriptionStyleModel",
            "_view_count": null,
            "_view_module": "@jupyter-widgets/base",
            "_view_module_version": "1.2.0",
            "_view_name": "StyleView",
            "description_width": ""
          }
        },
        "149d56aa0a1945768866209d74727367": {
          "model_module": "@jupyter-widgets/controls",
          "model_name": "HBoxModel",
          "model_module_version": "1.5.0",
          "state": {
            "_dom_classes": [],
            "_model_module": "@jupyter-widgets/controls",
            "_model_module_version": "1.5.0",
            "_model_name": "HBoxModel",
            "_view_count": null,
            "_view_module": "@jupyter-widgets/controls",
            "_view_module_version": "1.5.0",
            "_view_name": "HBoxView",
            "box_style": "",
            "children": [
              "IPY_MODEL_e3cfee333776436fa6d4d0e8092a2bbb",
              "IPY_MODEL_b0208b7b4ea54db9914618d911aad32c",
              "IPY_MODEL_2b4028c83232411d9d74ab716796aad7"
            ],
            "layout": "IPY_MODEL_480119391cc24ff3acd97b2161ed041b"
          }
        },
        "e3cfee333776436fa6d4d0e8092a2bbb": {
          "model_module": "@jupyter-widgets/controls",
          "model_name": "HTMLModel",
          "model_module_version": "1.5.0",
          "state": {
            "_dom_classes": [],
            "_model_module": "@jupyter-widgets/controls",
            "_model_module_version": "1.5.0",
            "_model_name": "HTMLModel",
            "_view_count": null,
            "_view_module": "@jupyter-widgets/controls",
            "_view_module_version": "1.5.0",
            "_view_name": "HTMLView",
            "description": "",
            "description_tooltip": null,
            "layout": "IPY_MODEL_506cb72100a94ed9965369949ce59754",
            "placeholder": "​",
            "style": "IPY_MODEL_1ccb50025d064e5b875d901785b6593e",
            "value": "Map: 100%"
          }
        },
        "b0208b7b4ea54db9914618d911aad32c": {
          "model_module": "@jupyter-widgets/controls",
          "model_name": "FloatProgressModel",
          "model_module_version": "1.5.0",
          "state": {
            "_dom_classes": [],
            "_model_module": "@jupyter-widgets/controls",
            "_model_module_version": "1.5.0",
            "_model_name": "FloatProgressModel",
            "_view_count": null,
            "_view_module": "@jupyter-widgets/controls",
            "_view_module_version": "1.5.0",
            "_view_name": "ProgressView",
            "bar_style": "",
            "description": "",
            "description_tooltip": null,
            "layout": "IPY_MODEL_2f18b17be476452f9ddae009ae7cc221",
            "max": 4000,
            "min": 0,
            "orientation": "horizontal",
            "style": "IPY_MODEL_ebf44102b43743a1830db94ee5ba7986",
            "value": 4000
          }
        },
        "2b4028c83232411d9d74ab716796aad7": {
          "model_module": "@jupyter-widgets/controls",
          "model_name": "HTMLModel",
          "model_module_version": "1.5.0",
          "state": {
            "_dom_classes": [],
            "_model_module": "@jupyter-widgets/controls",
            "_model_module_version": "1.5.0",
            "_model_name": "HTMLModel",
            "_view_count": null,
            "_view_module": "@jupyter-widgets/controls",
            "_view_module_version": "1.5.0",
            "_view_name": "HTMLView",
            "description": "",
            "description_tooltip": null,
            "layout": "IPY_MODEL_5054166026754683ab8b13bc4e8fe758",
            "placeholder": "​",
            "style": "IPY_MODEL_7f3e93d8c33b4126a48e5c9bb1eafae0",
            "value": " 4000/4000 [00:02&lt;00:00, 1371.05 examples/s]"
          }
        },
        "480119391cc24ff3acd97b2161ed041b": {
          "model_module": "@jupyter-widgets/base",
          "model_name": "LayoutModel",
          "model_module_version": "1.2.0",
          "state": {
            "_model_module": "@jupyter-widgets/base",
            "_model_module_version": "1.2.0",
            "_model_name": "LayoutModel",
            "_view_count": null,
            "_view_module": "@jupyter-widgets/base",
            "_view_module_version": "1.2.0",
            "_view_name": "LayoutView",
            "align_content": null,
            "align_items": null,
            "align_self": null,
            "border": null,
            "bottom": null,
            "display": null,
            "flex": null,
            "flex_flow": null,
            "grid_area": null,
            "grid_auto_columns": null,
            "grid_auto_flow": null,
            "grid_auto_rows": null,
            "grid_column": null,
            "grid_gap": null,
            "grid_row": null,
            "grid_template_areas": null,
            "grid_template_columns": null,
            "grid_template_rows": null,
            "height": null,
            "justify_content": null,
            "justify_items": null,
            "left": null,
            "margin": null,
            "max_height": null,
            "max_width": null,
            "min_height": null,
            "min_width": null,
            "object_fit": null,
            "object_position": null,
            "order": null,
            "overflow": null,
            "overflow_x": null,
            "overflow_y": null,
            "padding": null,
            "right": null,
            "top": null,
            "visibility": "hidden",
            "width": null
          }
        },
        "506cb72100a94ed9965369949ce59754": {
          "model_module": "@jupyter-widgets/base",
          "model_name": "LayoutModel",
          "model_module_version": "1.2.0",
          "state": {
            "_model_module": "@jupyter-widgets/base",
            "_model_module_version": "1.2.0",
            "_model_name": "LayoutModel",
            "_view_count": null,
            "_view_module": "@jupyter-widgets/base",
            "_view_module_version": "1.2.0",
            "_view_name": "LayoutView",
            "align_content": null,
            "align_items": null,
            "align_self": null,
            "border": null,
            "bottom": null,
            "display": null,
            "flex": null,
            "flex_flow": null,
            "grid_area": null,
            "grid_auto_columns": null,
            "grid_auto_flow": null,
            "grid_auto_rows": null,
            "grid_column": null,
            "grid_gap": null,
            "grid_row": null,
            "grid_template_areas": null,
            "grid_template_columns": null,
            "grid_template_rows": null,
            "height": null,
            "justify_content": null,
            "justify_items": null,
            "left": null,
            "margin": null,
            "max_height": null,
            "max_width": null,
            "min_height": null,
            "min_width": null,
            "object_fit": null,
            "object_position": null,
            "order": null,
            "overflow": null,
            "overflow_x": null,
            "overflow_y": null,
            "padding": null,
            "right": null,
            "top": null,
            "visibility": null,
            "width": null
          }
        },
        "1ccb50025d064e5b875d901785b6593e": {
          "model_module": "@jupyter-widgets/controls",
          "model_name": "DescriptionStyleModel",
          "model_module_version": "1.5.0",
          "state": {
            "_model_module": "@jupyter-widgets/controls",
            "_model_module_version": "1.5.0",
            "_model_name": "DescriptionStyleModel",
            "_view_count": null,
            "_view_module": "@jupyter-widgets/base",
            "_view_module_version": "1.2.0",
            "_view_name": "StyleView",
            "description_width": ""
          }
        },
        "2f18b17be476452f9ddae009ae7cc221": {
          "model_module": "@jupyter-widgets/base",
          "model_name": "LayoutModel",
          "model_module_version": "1.2.0",
          "state": {
            "_model_module": "@jupyter-widgets/base",
            "_model_module_version": "1.2.0",
            "_model_name": "LayoutModel",
            "_view_count": null,
            "_view_module": "@jupyter-widgets/base",
            "_view_module_version": "1.2.0",
            "_view_name": "LayoutView",
            "align_content": null,
            "align_items": null,
            "align_self": null,
            "border": null,
            "bottom": null,
            "display": null,
            "flex": null,
            "flex_flow": null,
            "grid_area": null,
            "grid_auto_columns": null,
            "grid_auto_flow": null,
            "grid_auto_rows": null,
            "grid_column": null,
            "grid_gap": null,
            "grid_row": null,
            "grid_template_areas": null,
            "grid_template_columns": null,
            "grid_template_rows": null,
            "height": null,
            "justify_content": null,
            "justify_items": null,
            "left": null,
            "margin": null,
            "max_height": null,
            "max_width": null,
            "min_height": null,
            "min_width": null,
            "object_fit": null,
            "object_position": null,
            "order": null,
            "overflow": null,
            "overflow_x": null,
            "overflow_y": null,
            "padding": null,
            "right": null,
            "top": null,
            "visibility": null,
            "width": null
          }
        },
        "ebf44102b43743a1830db94ee5ba7986": {
          "model_module": "@jupyter-widgets/controls",
          "model_name": "ProgressStyleModel",
          "model_module_version": "1.5.0",
          "state": {
            "_model_module": "@jupyter-widgets/controls",
            "_model_module_version": "1.5.0",
            "_model_name": "ProgressStyleModel",
            "_view_count": null,
            "_view_module": "@jupyter-widgets/base",
            "_view_module_version": "1.2.0",
            "_view_name": "StyleView",
            "bar_color": null,
            "description_width": ""
          }
        },
        "5054166026754683ab8b13bc4e8fe758": {
          "model_module": "@jupyter-widgets/base",
          "model_name": "LayoutModel",
          "model_module_version": "1.2.0",
          "state": {
            "_model_module": "@jupyter-widgets/base",
            "_model_module_version": "1.2.0",
            "_model_name": "LayoutModel",
            "_view_count": null,
            "_view_module": "@jupyter-widgets/base",
            "_view_module_version": "1.2.0",
            "_view_name": "LayoutView",
            "align_content": null,
            "align_items": null,
            "align_self": null,
            "border": null,
            "bottom": null,
            "display": null,
            "flex": null,
            "flex_flow": null,
            "grid_area": null,
            "grid_auto_columns": null,
            "grid_auto_flow": null,
            "grid_auto_rows": null,
            "grid_column": null,
            "grid_gap": null,
            "grid_row": null,
            "grid_template_areas": null,
            "grid_template_columns": null,
            "grid_template_rows": null,
            "height": null,
            "justify_content": null,
            "justify_items": null,
            "left": null,
            "margin": null,
            "max_height": null,
            "max_width": null,
            "min_height": null,
            "min_width": null,
            "object_fit": null,
            "object_position": null,
            "order": null,
            "overflow": null,
            "overflow_x": null,
            "overflow_y": null,
            "padding": null,
            "right": null,
            "top": null,
            "visibility": null,
            "width": null
          }
        },
        "7f3e93d8c33b4126a48e5c9bb1eafae0": {
          "model_module": "@jupyter-widgets/controls",
          "model_name": "DescriptionStyleModel",
          "model_module_version": "1.5.0",
          "state": {
            "_model_module": "@jupyter-widgets/controls",
            "_model_module_version": "1.5.0",
            "_model_name": "DescriptionStyleModel",
            "_view_count": null,
            "_view_module": "@jupyter-widgets/base",
            "_view_module_version": "1.2.0",
            "_view_name": "StyleView",
            "description_width": ""
          }
        }
      }
    },
    "accelerator": "GPU",
    "gpuClass": "standard"
  },
  "cells": [
    {
      "cell_type": "markdown",
      "metadata": {
        "id": "view-in-github",
        "colab_type": "text"
      },
      "source": [
        "<a href=\"https://colab.research.google.com/github/MoritzLaurer/transformers-workshop-comptext-2023/blob/master/tune_BERT.ipynb\" target=\"_parent\"><img src=\"https://colab.research.google.com/assets/colab-badge.svg\" alt=\"Open In Colab\"/></a>"
      ]
    },
    {
      "cell_type": "markdown",
      "source": [
        "##  🧑‍💻 Workshop Notebook 🧑‍💻 \n",
        "\n",
        "📅 _COMPTEXT 2023 tutorial, 11.05.2023_\n",
        "\n",
        "👨‍🏫 By [Moritz Laurer](https://twitter.com/MoritzLaurer). \n",
        "For questions, reach out to: m.laurer@vu.nl\n"
      ],
      "metadata": {
        "id": "47O4RPQ7fskz"
      }
    },
    {
      "cell_type": "markdown",
      "source": [
        "This notebook is based on the paper [\"Less Annotating, More Classifying: Addressing the Data Scarcity Issue of Supervised Machine Learning with Deep Transfer Learning and BERT-NLI\"](https://github.com/MoritzLaurer/less-annotating-with-bert-nli) by Moritz Laurer, Wouter van Atteveldt, Andreu Casas, Kasper Welbers."
      ],
      "metadata": {
        "id": "3pbwv_5ppUhv"
      }
    },
    {
      "cell_type": "markdown",
      "source": [
        "## Activate a GPU runtime"
      ],
      "metadata": {
        "id": "bCzLYg11MctY"
      }
    },
    {
      "cell_type": "markdown",
      "source": [
        "In order to run this notebook on a GPU, click on \"Runtime\" > \"Change runtime type\" > select \"GPU\" in the menue bar in to top left. Training a Transformer is much faster on a GPU. Given Google's usage limits for GPUs, it is advisable to first test your non-training code on a CPU (Hardware accelerator \"None\" instead of GPU) and only use the GPU once you know that everything is working."
      ],
      "metadata": {
        "id": "OZoAtCy_MhnU"
      }
    },
    {
      "cell_type": "markdown",
      "source": [
        "## Install relevant packages"
      ],
      "metadata": {
        "id": "VOeUg4_YpxC7"
      }
    },
    {
      "cell_type": "code",
      "source": [
        "!pip install transformers[sentencepiece]==4.28  #4.23\n",
        "!pip install datasets==2.12  #2.6\n",
        "!pip install optuna==3.1"
      ],
      "metadata": {
        "colab": {
          "base_uri": "https://localhost:8080/"
        },
        "id": "qIjwLsME0KiW",
        "outputId": "7e47f8de-2f29-4d30-be3b-737b4fe73fe9"
      },
      "execution_count": 1,
      "outputs": [
        {
          "output_type": "stream",
          "name": "stdout",
          "text": [
            "Looking in indexes: https://pypi.org/simple, https://us-python.pkg.dev/colab-wheels/public/simple/\n",
            "Requirement already satisfied: transformers[sentencepiece]==4.28 in /usr/local/lib/python3.10/dist-packages (4.28.0)\n",
            "Requirement already satisfied: pyyaml>=5.1 in /usr/local/lib/python3.10/dist-packages (from transformers[sentencepiece]==4.28) (6.0)\n",
            "Requirement already satisfied: requests in /usr/local/lib/python3.10/dist-packages (from transformers[sentencepiece]==4.28) (2.27.1)\n",
            "Requirement already satisfied: huggingface-hub<1.0,>=0.11.0 in /usr/local/lib/python3.10/dist-packages (from transformers[sentencepiece]==4.28) (0.14.1)\n",
            "Requirement already satisfied: packaging>=20.0 in /usr/local/lib/python3.10/dist-packages (from transformers[sentencepiece]==4.28) (23.1)\n",
            "Requirement already satisfied: numpy>=1.17 in /usr/local/lib/python3.10/dist-packages (from transformers[sentencepiece]==4.28) (1.22.4)\n",
            "Requirement already satisfied: filelock in /usr/local/lib/python3.10/dist-packages (from transformers[sentencepiece]==4.28) (3.12.0)\n",
            "Requirement already satisfied: tokenizers!=0.11.3,<0.14,>=0.11.1 in /usr/local/lib/python3.10/dist-packages (from transformers[sentencepiece]==4.28) (0.13.3)\n",
            "Requirement already satisfied: tqdm>=4.27 in /usr/local/lib/python3.10/dist-packages (from transformers[sentencepiece]==4.28) (4.65.0)\n",
            "Requirement already satisfied: regex!=2019.12.17 in /usr/local/lib/python3.10/dist-packages (from transformers[sentencepiece]==4.28) (2022.10.31)\n",
            "Requirement already satisfied: protobuf<=3.20.2 in /usr/local/lib/python3.10/dist-packages (from transformers[sentencepiece]==4.28) (3.20.2)\n",
            "Requirement already satisfied: sentencepiece!=0.1.92,>=0.1.91 in /usr/local/lib/python3.10/dist-packages (from transformers[sentencepiece]==4.28) (0.1.99)\n",
            "Requirement already satisfied: fsspec in /usr/local/lib/python3.10/dist-packages (from huggingface-hub<1.0,>=0.11.0->transformers[sentencepiece]==4.28) (2023.4.0)\n",
            "Requirement already satisfied: typing-extensions>=3.7.4.3 in /usr/local/lib/python3.10/dist-packages (from huggingface-hub<1.0,>=0.11.0->transformers[sentencepiece]==4.28) (4.5.0)\n",
            "Requirement already satisfied: urllib3<1.27,>=1.21.1 in /usr/local/lib/python3.10/dist-packages (from requests->transformers[sentencepiece]==4.28) (1.26.15)\n",
            "Requirement already satisfied: idna<4,>=2.5 in /usr/local/lib/python3.10/dist-packages (from requests->transformers[sentencepiece]==4.28) (3.4)\n",
            "Requirement already satisfied: charset-normalizer~=2.0.0 in /usr/local/lib/python3.10/dist-packages (from requests->transformers[sentencepiece]==4.28) (2.0.12)\n",
            "Requirement already satisfied: certifi>=2017.4.17 in /usr/local/lib/python3.10/dist-packages (from requests->transformers[sentencepiece]==4.28) (2022.12.7)\n",
            "Looking in indexes: https://pypi.org/simple, https://us-python.pkg.dev/colab-wheels/public/simple/\n",
            "Requirement already satisfied: datasets==2.12 in /usr/local/lib/python3.10/dist-packages (2.12.0)\n",
            "Requirement already satisfied: aiohttp in /usr/local/lib/python3.10/dist-packages (from datasets==2.12) (3.8.4)\n",
            "Requirement already satisfied: pandas in /usr/local/lib/python3.10/dist-packages (from datasets==2.12) (1.5.3)\n",
            "Requirement already satisfied: packaging in /usr/local/lib/python3.10/dist-packages (from datasets==2.12) (23.1)\n",
            "Requirement already satisfied: pyyaml>=5.1 in /usr/local/lib/python3.10/dist-packages (from datasets==2.12) (6.0)\n",
            "Requirement already satisfied: responses<0.19 in /usr/local/lib/python3.10/dist-packages (from datasets==2.12) (0.18.0)\n",
            "Requirement already satisfied: numpy>=1.17 in /usr/local/lib/python3.10/dist-packages (from datasets==2.12) (1.22.4)\n",
            "Requirement already satisfied: multiprocess in /usr/local/lib/python3.10/dist-packages (from datasets==2.12) (0.70.14)\n",
            "Requirement already satisfied: requests>=2.19.0 in /usr/local/lib/python3.10/dist-packages (from datasets==2.12) (2.27.1)\n",
            "Requirement already satisfied: pyarrow>=8.0.0 in /usr/local/lib/python3.10/dist-packages (from datasets==2.12) (9.0.0)\n",
            "Requirement already satisfied: tqdm>=4.62.1 in /usr/local/lib/python3.10/dist-packages (from datasets==2.12) (4.65.0)\n",
            "Requirement already satisfied: huggingface-hub<1.0.0,>=0.11.0 in /usr/local/lib/python3.10/dist-packages (from datasets==2.12) (0.14.1)\n",
            "Requirement already satisfied: xxhash in /usr/local/lib/python3.10/dist-packages (from datasets==2.12) (3.2.0)\n",
            "Requirement already satisfied: fsspec[http]>=2021.11.1 in /usr/local/lib/python3.10/dist-packages (from datasets==2.12) (2023.4.0)\n",
            "Requirement already satisfied: dill<0.3.7,>=0.3.0 in /usr/local/lib/python3.10/dist-packages (from datasets==2.12) (0.3.6)\n",
            "Requirement already satisfied: aiosignal>=1.1.2 in /usr/local/lib/python3.10/dist-packages (from aiohttp->datasets==2.12) (1.3.1)\n",
            "Requirement already satisfied: attrs>=17.3.0 in /usr/local/lib/python3.10/dist-packages (from aiohttp->datasets==2.12) (23.1.0)\n",
            "Requirement already satisfied: frozenlist>=1.1.1 in /usr/local/lib/python3.10/dist-packages (from aiohttp->datasets==2.12) (1.3.3)\n",
            "Requirement already satisfied: multidict<7.0,>=4.5 in /usr/local/lib/python3.10/dist-packages (from aiohttp->datasets==2.12) (6.0.4)\n",
            "Requirement already satisfied: async-timeout<5.0,>=4.0.0a3 in /usr/local/lib/python3.10/dist-packages (from aiohttp->datasets==2.12) (4.0.2)\n",
            "Requirement already satisfied: charset-normalizer<4.0,>=2.0 in /usr/local/lib/python3.10/dist-packages (from aiohttp->datasets==2.12) (2.0.12)\n",
            "Requirement already satisfied: yarl<2.0,>=1.0 in /usr/local/lib/python3.10/dist-packages (from aiohttp->datasets==2.12) (1.9.2)\n",
            "Requirement already satisfied: typing-extensions>=3.7.4.3 in /usr/local/lib/python3.10/dist-packages (from huggingface-hub<1.0.0,>=0.11.0->datasets==2.12) (4.5.0)\n",
            "Requirement already satisfied: filelock in /usr/local/lib/python3.10/dist-packages (from huggingface-hub<1.0.0,>=0.11.0->datasets==2.12) (3.12.0)\n",
            "Requirement already satisfied: urllib3<1.27,>=1.21.1 in /usr/local/lib/python3.10/dist-packages (from requests>=2.19.0->datasets==2.12) (1.26.15)\n",
            "Requirement already satisfied: idna<4,>=2.5 in /usr/local/lib/python3.10/dist-packages (from requests>=2.19.0->datasets==2.12) (3.4)\n",
            "Requirement already satisfied: certifi>=2017.4.17 in /usr/local/lib/python3.10/dist-packages (from requests>=2.19.0->datasets==2.12) (2022.12.7)\n",
            "Requirement already satisfied: python-dateutil>=2.8.1 in /usr/local/lib/python3.10/dist-packages (from pandas->datasets==2.12) (2.8.2)\n",
            "Requirement already satisfied: pytz>=2020.1 in /usr/local/lib/python3.10/dist-packages (from pandas->datasets==2.12) (2022.7.1)\n",
            "Requirement already satisfied: six>=1.5 in /usr/local/lib/python3.10/dist-packages (from python-dateutil>=2.8.1->pandas->datasets==2.12) (1.16.0)\n",
            "Looking in indexes: https://pypi.org/simple, https://us-python.pkg.dev/colab-wheels/public/simple/\n",
            "Requirement already satisfied: optuna==3.1 in /usr/local/lib/python3.10/dist-packages (3.1.0)\n",
            "Requirement already satisfied: PyYAML in /usr/local/lib/python3.10/dist-packages (from optuna==3.1) (6.0)\n",
            "Requirement already satisfied: numpy in /usr/local/lib/python3.10/dist-packages (from optuna==3.1) (1.22.4)\n",
            "Requirement already satisfied: packaging>=20.0 in /usr/local/lib/python3.10/dist-packages (from optuna==3.1) (23.1)\n",
            "Requirement already satisfied: tqdm in /usr/local/lib/python3.10/dist-packages (from optuna==3.1) (4.65.0)\n",
            "Requirement already satisfied: cmaes>=0.9.1 in /usr/local/lib/python3.10/dist-packages (from optuna==3.1) (0.9.1)\n",
            "Requirement already satisfied: alembic>=1.5.0 in /usr/local/lib/python3.10/dist-packages (from optuna==3.1) (1.10.4)\n",
            "Requirement already satisfied: sqlalchemy>=1.3.0 in /usr/local/lib/python3.10/dist-packages (from optuna==3.1) (2.0.10)\n",
            "Requirement already satisfied: colorlog in /usr/local/lib/python3.10/dist-packages (from optuna==3.1) (6.7.0)\n",
            "Requirement already satisfied: typing-extensions>=4 in /usr/local/lib/python3.10/dist-packages (from alembic>=1.5.0->optuna==3.1) (4.5.0)\n",
            "Requirement already satisfied: Mako in /usr/local/lib/python3.10/dist-packages (from alembic>=1.5.0->optuna==3.1) (1.2.4)\n",
            "Requirement already satisfied: greenlet!=0.4.17 in /usr/local/lib/python3.10/dist-packages (from sqlalchemy>=1.3.0->optuna==3.1) (2.0.2)\n",
            "Requirement already satisfied: MarkupSafe>=0.9.2 in /usr/local/lib/python3.10/dist-packages (from Mako->alembic>=1.5.0->optuna==3.1) (2.1.2)\n"
          ]
        }
      ]
    },
    {
      "cell_type": "code",
      "source": [
        "## Load general packages\n",
        "# some more specialised packages are loaded in each sub section\n",
        "import pandas as pd\n",
        "import numpy as np\n",
        "from google.colab.data_table import DataTable"
      ],
      "metadata": {
        "id": "FT5nV1J3p4t5"
      },
      "execution_count": 2,
      "outputs": []
    },
    {
      "cell_type": "code",
      "source": [
        "# set random seed for reproducibility\n",
        "SEED_GLOBAL = 42\n",
        "np.random.seed(SEED_GLOBAL)"
      ],
      "metadata": {
        "id": "WaGAh8DJwvKV"
      },
      "execution_count": 3,
      "outputs": []
    },
    {
      "cell_type": "markdown",
      "source": [
        "## Download data"
      ],
      "metadata": {
        "id": "8_DkNjuVo2iK"
      }
    },
    {
      "cell_type": "code",
      "source": [
        "## Download a cleaned train and test data from the paper's github repository\n",
        "# you can choose any dataset from this repository (copy & paste the link to the raw files below): \n",
        "# https://github.com/MoritzLaurer/less-annotating-with-bert-nli/tree/master/data_clean\n",
        "\n",
        "df_train = pd.read_csv(\"https://raw.githubusercontent.com/MoritzLaurer/less-annotating-with-bert-nli/master/data_clean/df_manifesto_military_train.csv\", index_col=\"idx\") \n",
        "df_test = pd.read_csv(\"https://raw.githubusercontent.com/MoritzLaurer/less-annotating-with-bert-nli/master/data_clean/df_manifesto_military_test.csv\", index_col=\"idx\")\n",
        "print(\"Length of training and test sets: \", len(df_train), \" (train) \", len(df_test), \" (test).\")\n"
      ],
      "metadata": {
        "colab": {
          "base_uri": "https://localhost:8080/"
        },
        "id": "3ZJWT5pN1CE_",
        "outputId": "60111c17-eab4-4793-b512-a8d037d33d96"
      },
      "execution_count": 4,
      "outputs": [
        {
          "output_type": "stream",
          "name": "stdout",
          "text": [
            "Length of training and test sets:  3970  (train)  9537  (test).\n"
          ]
        }
      ]
    },
    {
      "cell_type": "markdown",
      "source": [
        "**If you want to run the notebook on your own dataset:**\n",
        "\n",
        "You can load your own training and test data above to fine-tune your own BERT model. Your own dataframe only needs three columns to be compatible with the code below: (1) a \"label\" column with a numeric label; (2) a \"label_text\" column with the label name in plain language, (3) a \"text\" column with the texts for training (you might need to delete/adapt the text preparation code cell below for your dataset). "
      ],
      "metadata": {
        "id": "LvNpgSDGP47D"
      }
    },
    {
      "cell_type": "code",
      "source": [
        "## alternatively, you can also load your own .csv files from Google Drive\n",
        "\"\"\"\n",
        "from google.colab import drive\n",
        "import os\n",
        "drive.mount('/content/drive', force_remount=False)\n",
        "\n",
        "# set the path to your data\n",
        "os.chdir(\"/content/drive/My Drive/PhD/other/COMPTEXT-2023-workshop/data\")  \n",
        "print(os.getcwd())\n",
        "\n",
        "df_train = pd.read_csv(\"./df_manifesto_morality_train.csv\")\n",
        "df_test = pd.read_csv(\"./df_manifesto_morality_test.csv\")\n",
        "print(\"Length of training and test sets: \", len(df_train), \" (train) \", len(df_test), \" (test).\")\n",
        "\"\"\"\n"
      ],
      "metadata": {
        "colab": {
          "base_uri": "https://localhost:8080/",
          "height": 71
        },
        "id": "9NNdV5ee1DYK",
        "outputId": "010dfd23-3a18-4e6c-fccb-b2302498cd1a"
      },
      "execution_count": 5,
      "outputs": [
        {
          "output_type": "execute_result",
          "data": {
            "text/plain": [
              "'\\nfrom google.colab import drive\\nimport os\\ndrive.mount(\\'/content/drive\\', force_remount=False)\\n\\n# set the path to your data\\nos.chdir(\"/content/drive/My Drive/PhD/other/COMPTEXT-2023-workshop/data\")  \\nprint(os.getcwd())\\n\\ndf_train = pd.read_csv(\"./df_manifesto_morality_train.csv\")\\ndf_test = pd.read_csv(\"./df_manifesto_morality_test.csv\")\\nprint(\"Length of training and test sets: \", len(df_train), \" (train) \", len(df_test), \" (test).\")\\n'"
            ],
            "application/vnd.google.colaboratory.intrinsic+json": {
              "type": "string"
            }
          },
          "metadata": {},
          "execution_count": 5
        }
      ]
    },
    {
      "cell_type": "code",
      "execution_count": 6,
      "metadata": {
        "colab": {
          "base_uri": "https://localhost:8080/"
        },
        "id": "0-SPaNcdogiu",
        "outputId": "9025454f-f90e-46fe-ecb7-34aba58f8a1a"
      },
      "outputs": [
        {
          "output_type": "stream",
          "name": "stdout",
          "text": [
            "Length of training and test sets after sampling:  1000  (train)  4000  (test).\n"
          ]
        }
      ],
      "source": [
        "# optional: use training data sample size of e.g. 1000 for faster testing\n",
        "sample_size = 1000\n",
        "df_train = df_train.sample(n=min(sample_size, len(df_train)), random_state=SEED_GLOBAL).copy(deep=True)\n",
        "df_test = df_test.sample(n=min(sample_size*4, len(df_test)), random_state=SEED_GLOBAL).copy(deep=True)\n",
        "\n",
        "print(\"Length of training and test sets after sampling: \", len(df_train), \" (train) \", len(df_test), \" (test).\")\n"
      ]
    },
    {
      "cell_type": "code",
      "source": [
        "## inspect the data\n",
        "# label distribution train set \n",
        "print(\"Train set label distribution:\\n\", df_train.label_text.value_counts(), \"\\n\")\n",
        "# label distribution test set \n",
        "print(\"Test set label distribution:\\n\", df_test.label_text.value_counts())\n"
      ],
      "metadata": {
        "colab": {
          "base_uri": "https://localhost:8080/"
        },
        "id": "wzAJybXMnN1V",
        "outputId": "bf81896f-e56c-477f-b665-a6e836f6083e"
      },
      "execution_count": 7,
      "outputs": [
        {
          "output_type": "stream",
          "name": "stdout",
          "text": [
            "Train set label distribution:\n",
            " Other                 516\n",
            "Military: Positive    399\n",
            "Military: Negative     85\n",
            "Name: label_text, dtype: int64 \n",
            "\n",
            "Test set label distribution:\n",
            " Other                 3646\n",
            "Military: Positive     248\n",
            "Military: Negative     106\n",
            "Name: label_text, dtype: int64\n"
          ]
        }
      ]
    },
    {
      "cell_type": "code",
      "source": [
        "# full training data table\n",
        "DataTable(df_train, num_rows_per_page=5)"
      ],
      "metadata": {
        "id": "Bk9yc_ppraUa"
      },
      "execution_count": null,
      "outputs": []
    },
    {
      "cell_type": "markdown",
      "source": [
        "## Data preprocessing"
      ],
      "metadata": {
        "id": "bRcsFtkQupNx"
      }
    },
    {
      "cell_type": "markdown",
      "source": [
        "**Prepare the input text**\n",
        "\n",
        "1.) We prepare the target texts by making them more naturally fit to the hypothesis. Here we simply wrap each target text into the string ' The quote: \"{target_text}\" - end of the quote. '\n",
        "\n",
        "2.) We surround the target text by its preceeding and following sentence. Adding context like this systematically increases performance. \n"
      ],
      "metadata": {
        "id": "NKJb7sWwOy7h"
      }
    },
    {
      "cell_type": "code",
      "source": [
        "df_train[\"text\"] = df_train.text_preceding.fillna(\"\") + \" \" + df_train.text_original.fillna(\"\") + \" \" + df_train.text_following.fillna(\"\")\n",
        "df_test[\"text\"] = df_test.text_preceding.fillna(\"\") + \" \" + df_test.text_original.fillna(\"\") + \" \" + df_test.text_following.fillna(\"\")\n"
      ],
      "metadata": {
        "id": "cMdw-oZ9sCcS"
      },
      "execution_count": 9,
      "outputs": []
    },
    {
      "cell_type": "code",
      "source": [
        "df_train = df_train[[\"label\", \"label_text\", \"text\"]]\n",
        "df_test = df_test[[\"label\", \"label_text\", \"text\"]]"
      ],
      "metadata": {
        "id": "3chucB2gocsU"
      },
      "execution_count": 10,
      "outputs": []
    },
    {
      "cell_type": "code",
      "source": [
        "DataTable(df_train, num_rows_per_page=5)"
      ],
      "metadata": {
        "id": "TA941hmbosM1"
      },
      "execution_count": null,
      "outputs": []
    },
    {
      "cell_type": "markdown",
      "source": [
        "## Load a Transformer"
      ],
      "metadata": {
        "id": "G_PCMiyIw7mf"
      }
    },
    {
      "cell_type": "markdown",
      "source": [
        "We use [Hugging Face Transformers](https://huggingface.co/docs/transformers/index) for loading and training our model. They provide great documentation and also a very good [course](https://huggingface.co/course/chapter1/1) on how to use Transformers. "
      ],
      "metadata": {
        "id": "17a2ENVfVZQU"
      }
    },
    {
      "cell_type": "markdown",
      "source": [
        "**Choosing a Transformer model**\n",
        "\n",
        "You can can use any classification model on the [Hugging Face Hub](https://huggingface.co/models?sort=downloads). I suggest testing these models: \n",
        "\n",
        "\n",
        "\n",
        "*   Original BERT: `bert-base-uncased`\n",
        "*   Small efficient model: `distilbert-base-uncased`\n",
        "*   Newer version of BERT: `microsoft/deberta-v3-base`\n",
        "*   Large, high-performance model: `microsoft/deberta-v3-large`\n",
        "*   Multilingual model: `microsoft/mdeberta-v3-base`\n",
        "\n",
        "\n",
        "\n"
      ],
      "metadata": {
        "id": "l8Z3f3TtRCaJ"
      }
    },
    {
      "cell_type": "code",
      "source": [
        "from transformers import AutoTokenizer, AutoModelForSequenceClassification, AutoConfig\n",
        "import torch\n",
        "\n",
        "## load a model and its tokenizer\n",
        "model_name = \"microsoft/deberta-v3-large\"  \n",
        "tokenizer = AutoTokenizer.from_pretrained(model_name, use_fast=True, model_max_length=512)\n",
        "\n",
        "# link the numeric labels to the label texts\n",
        "label_text = np.sort(df_test.label_text.unique()).tolist()\n",
        "label2id = dict(zip(np.sort(label_text), np.sort(pd.factorize(label_text, sort=True)[0]).tolist()))\n",
        "id2label = dict(zip(np.sort(pd.factorize(label_text, sort=True)[0]).tolist(), np.sort(label_text)))\n",
        "config = AutoConfig.from_pretrained(model_name, label2id=label2id, id2label=id2label, num_labels=len(label2id));\n",
        "\n",
        "# load model with config\n",
        "model = AutoModelForSequenceClassification.from_pretrained(model_name, config=config, ignore_mismatched_sizes=True);\n",
        "\n",
        "# use GPU (cuda) if available, otherwise use CPU\n",
        "device = \"cuda\" if torch.cuda.is_available() else \"cpu\"\n",
        "print(f\"Device: {device}\")\n",
        "model.to(device);\n"
      ],
      "metadata": {
        "colab": {
          "base_uri": "https://localhost:8080/",
          "height": 344,
          "referenced_widgets": [
            "79d33f2dd65042f6a8187b019f779b2a",
            "c7dc7535a1834a64a5d4e5fdf96eb13b",
            "3fa6a309f7444f9d8e5b4da8803d0900",
            "bff8c67608a4487e8eb0c68e130d81f5",
            "84b7a75fec944b5e94cf8095438967f2",
            "bd7b992984c24e439f4027c2d6d91a9c",
            "5651205a9a6d4c3ca7d928f806c1f8b1",
            "6bcfb107c5934da4b6976061ab1751d8",
            "e9dc9ec835c74f81aa323531131f076e",
            "f28a5d9f1ba2427b9113bbcf3a02f812",
            "758a2fb3eb874eadba49495ed9064d02",
            "4a90e0eb70164b73baa5030f98bf5269",
            "c9ce3fdda0e741ff891133b2b8a05ac2",
            "5a7dc8196bff425ba90412aa25f842aa",
            "7f7b60b8033542318087dbd2b90982fd",
            "3ee1ce5bc17d404aa86d3abe64fa7add",
            "4f032bf106694b67b12c719a4a2d8977",
            "1953e82374a04f4d8fb67eebc3f566f7",
            "19d47bc8589d41b29d6adc6d4851dce4",
            "9b5db53d8c854cc582994906b50e533e",
            "eca0da8827754a19a2b0d20d84c3606a",
            "437676fb960c4d1b9433a9444b2d83c3",
            "891d28ea807b425a8f97dad3d4c9e8de",
            "877ab6a51e5f4b1f9a7f80b2921ec09d",
            "f090af4f698748848d608930c860f091",
            "393eb2dbf3074c6596ed345af91fb164",
            "c31651c49a3c4a59a09e59013a650aad",
            "2f1be67f17804915b38bfe90cfe32d8b",
            "af8c61d140c74627bb7e554ce4fbe87c",
            "a09a1d54c04040548c6840e3cab3e8dc",
            "c4b3f9073dd24b84a6851b966f3be1db",
            "e37be8484fc14a5097cf6e71e42b76f8",
            "01b8dbef606b44ac9da928ef0d9b4ca8",
            "0c5a60c846124543b53b6c3f35177e92",
            "d088dec8eaae4d3eb48835297196651e",
            "83ed3b0c4a1f4e7fa29c6c140dc8313d",
            "eaf94bd47bff434694f4fda1912396f5",
            "04d2c713be1b4eba8f6cc0cefa114a0b",
            "aa4f364e062d470a83e2291d124069a2",
            "8eb4ab81de8e4b03b5ac44c3c4af742f",
            "9fae0d55d5a54cd4a5e44b8898ff0fa8",
            "2bd8e99d3abb4d96810c9917ee19c048",
            "5fc63ffa26c6432f9a59bec1d111d375",
            "069ed4a486af45468bf5220f2d8df222"
          ]
        },
        "id": "yC4VuOspw9cW",
        "outputId": "a14c6254-e0fe-496e-d5b5-c27efa65eb3a"
      },
      "execution_count": 12,
      "outputs": [
        {
          "output_type": "display_data",
          "data": {
            "text/plain": [
              "Downloading (…)okenizer_config.json:   0%|          | 0.00/52.0 [00:00<?, ?B/s]"
            ],
            "application/vnd.jupyter.widget-view+json": {
              "version_major": 2,
              "version_minor": 0,
              "model_id": "79d33f2dd65042f6a8187b019f779b2a"
            }
          },
          "metadata": {}
        },
        {
          "output_type": "display_data",
          "data": {
            "text/plain": [
              "Downloading (…)lve/main/config.json:   0%|          | 0.00/580 [00:00<?, ?B/s]"
            ],
            "application/vnd.jupyter.widget-view+json": {
              "version_major": 2,
              "version_minor": 0,
              "model_id": "4a90e0eb70164b73baa5030f98bf5269"
            }
          },
          "metadata": {}
        },
        {
          "output_type": "display_data",
          "data": {
            "text/plain": [
              "Downloading spm.model:   0%|          | 0.00/2.46M [00:00<?, ?B/s]"
            ],
            "application/vnd.jupyter.widget-view+json": {
              "version_major": 2,
              "version_minor": 0,
              "model_id": "891d28ea807b425a8f97dad3d4c9e8de"
            }
          },
          "metadata": {}
        },
        {
          "output_type": "stream",
          "name": "stderr",
          "text": [
            "Special tokens have been added in the vocabulary, make sure the associated word embeddings are fine-tuned or trained.\n",
            "/usr/local/lib/python3.10/dist-packages/transformers/convert_slow_tokenizer.py:454: UserWarning: The sentencepiece tokenizer that you are converting to a fast tokenizer uses the byte fallback option which is not implemented in the fast tokenizers. In practice this means that the fast version of the tokenizer can produce unknown tokens whereas the sentencepiece version would have converted these unknown tokens into a sequence of byte tokens matching the original piece of text.\n",
            "  warnings.warn(\n",
            "Special tokens have been added in the vocabulary, make sure the associated word embeddings are fine-tuned or trained.\n"
          ]
        },
        {
          "output_type": "display_data",
          "data": {
            "text/plain": [
              "Downloading pytorch_model.bin:   0%|          | 0.00/874M [00:00<?, ?B/s]"
            ],
            "application/vnd.jupyter.widget-view+json": {
              "version_major": 2,
              "version_minor": 0,
              "model_id": "0c5a60c846124543b53b6c3f35177e92"
            }
          },
          "metadata": {}
        },
        {
          "output_type": "stream",
          "name": "stderr",
          "text": [
            "Some weights of the model checkpoint at microsoft/deberta-v3-large were not used when initializing DebertaV2ForSequenceClassification: ['lm_predictions.lm_head.dense.bias', 'mask_predictions.dense.weight', 'lm_predictions.lm_head.bias', 'mask_predictions.dense.bias', 'lm_predictions.lm_head.LayerNorm.bias', 'mask_predictions.classifier.bias', 'mask_predictions.classifier.weight', 'lm_predictions.lm_head.LayerNorm.weight', 'lm_predictions.lm_head.dense.weight', 'mask_predictions.LayerNorm.weight', 'mask_predictions.LayerNorm.bias']\n",
            "- This IS expected if you are initializing DebertaV2ForSequenceClassification from the checkpoint of a model trained on another task or with another architecture (e.g. initializing a BertForSequenceClassification model from a BertForPreTraining model).\n",
            "- This IS NOT expected if you are initializing DebertaV2ForSequenceClassification from the checkpoint of a model that you expect to be exactly identical (initializing a BertForSequenceClassification model from a BertForSequenceClassification model).\n",
            "Some weights of DebertaV2ForSequenceClassification were not initialized from the model checkpoint at microsoft/deberta-v3-large and are newly initialized: ['classifier.bias', 'pooler.dense.weight', 'pooler.dense.bias', 'classifier.weight']\n",
            "You should probably TRAIN this model on a down-stream task to be able to use it for predictions and inference.\n"
          ]
        },
        {
          "output_type": "stream",
          "name": "stdout",
          "text": [
            "Device: cuda\n"
          ]
        }
      ]
    },
    {
      "cell_type": "markdown",
      "source": [
        "## Tokenize data"
      ],
      "metadata": {
        "id": "Y2qMjRt2SRMc"
      }
    },
    {
      "cell_type": "code",
      "source": [
        "# convert pandas dataframes to Hugging Face dataset object to facilitate pre-processing\n",
        "import datasets\n",
        "\n",
        "dataset = datasets.DatasetDict({\n",
        "    \"train\": datasets.Dataset.from_pandas(df_train),\n",
        "    \"test\": datasets.Dataset.from_pandas(df_test)\n",
        "})\n",
        "\n",
        "# tokenize\n",
        "def tokenize(examples):\n",
        "  return tokenizer(examples[\"text\"], truncation=True, max_length=512)  # max_length can be reduced to e.g. 256 to increase speed, but long texts will be cut off\n",
        "\n",
        "dataset[\"train\"] = dataset[\"train\"].map(tokenize, batched=True)  \n",
        "dataset[\"test\"] = dataset[\"test\"].map(tokenize, batched=True) \n",
        "\n",
        "# remove unnecessary columns for model training\n",
        "dataset = dataset.remove_columns(['label_text'])   #'text_original', 'label_domain_text', 'label_subcat_text', 'text_preceding', 'text_following', 'manifesto_id', 'doc_id', 'country_name', 'date', 'party', 'cmp_code_hb4', 'cmp_code', 'label_subcat_text_simple'])\n"
      ],
      "metadata": {
        "colab": {
          "base_uri": "https://localhost:8080/",
          "height": 17,
          "referenced_widgets": [
            "ebe0280c1bca47b3842ad9e15bd6ba3f",
            "3183ca2bca2345f2990196311986b7a9",
            "e9bd7fa18b9346e38230000fb477b2e5",
            "b8c33fae76ef407f9aa2b3a4f09b5665",
            "121dcbc899844fdc90846e9da428a396",
            "9bedd726de0b4e7eb15e60d00f6457fa",
            "dc7ee433295b467685f24047d83bb380",
            "3c67b8058daf4611b7508e4b7b5c756d",
            "8d041b7d51dc4040bec2aa8006d3bca4",
            "5cc23167cc694f1b80a7bd431867fe0d",
            "efc4f73cc1a9455e93d88c179a19839d",
            "149d56aa0a1945768866209d74727367",
            "e3cfee333776436fa6d4d0e8092a2bbb",
            "b0208b7b4ea54db9914618d911aad32c",
            "2b4028c83232411d9d74ab716796aad7",
            "480119391cc24ff3acd97b2161ed041b",
            "506cb72100a94ed9965369949ce59754",
            "1ccb50025d064e5b875d901785b6593e",
            "2f18b17be476452f9ddae009ae7cc221",
            "ebf44102b43743a1830db94ee5ba7986",
            "5054166026754683ab8b13bc4e8fe758",
            "7f3e93d8c33b4126a48e5c9bb1eafae0"
          ]
        },
        "id": "nyvO3Xr01NmR",
        "outputId": "93e90a95-b3b4-44f7-f692-25d0bd993bee"
      },
      "execution_count": 13,
      "outputs": [
        {
          "output_type": "display_data",
          "data": {
            "text/plain": [
              "Map:   0%|          | 0/1000 [00:00<?, ? examples/s]"
            ],
            "application/vnd.jupyter.widget-view+json": {
              "version_major": 2,
              "version_minor": 0,
              "model_id": "ebe0280c1bca47b3842ad9e15bd6ba3f"
            }
          },
          "metadata": {}
        },
        {
          "output_type": "display_data",
          "data": {
            "text/plain": [
              "Map:   0%|          | 0/4000 [00:00<?, ? examples/s]"
            ],
            "application/vnd.jupyter.widget-view+json": {
              "version_major": 2,
              "version_minor": 0,
              "model_id": "149d56aa0a1945768866209d74727367"
            }
          },
          "metadata": {}
        }
      ]
    },
    {
      "cell_type": "markdown",
      "source": [
        "**Inspect processed data**"
      ],
      "metadata": {
        "id": "XMSuf_2BSwE2"
      }
    },
    {
      "cell_type": "code",
      "source": [
        "print(\"The overall structure of the pre-processed train and test sets:\\n\")\n",
        "print(dataset)\n",
        "\n",
        "print(\"\\n\\nAn example for a tokenized hypothesis-context pair:\\n\")\n",
        "print(dataset[\"train\"][0])"
      ],
      "metadata": {
        "colab": {
          "base_uri": "https://localhost:8080/"
        },
        "id": "dtVbrtfx4Bke",
        "outputId": "c96f6b7c-4b54-410b-b3d3-432fe877ec08"
      },
      "execution_count": 14,
      "outputs": [
        {
          "output_type": "stream",
          "name": "stdout",
          "text": [
            "The overall structure of the pre-processed train and test sets:\n",
            "\n",
            "DatasetDict({\n",
            "    train: Dataset({\n",
            "        features: ['label', 'text', 'idx', 'input_ids', 'token_type_ids', 'attention_mask'],\n",
            "        num_rows: 1000\n",
            "    })\n",
            "    test: Dataset({\n",
            "        features: ['label', 'text', 'idx', 'input_ids', 'token_type_ids', 'attention_mask'],\n",
            "        num_rows: 4000\n",
            "    })\n",
            "})\n",
            "\n",
            "\n",
            "An example for a tokenized hypothesis-context pair:\n",
            "\n",
            "{'label': 0, 'text': 'emergency relief in situations of armed conflict should be carried out by civilians and must be clearly distinguished from any military activities. a direct role for military forces in the provision of relief should be restricted to situations involving natural disasters where ambiguity over the military role is unlikely to arise. aid programs should not be used to influence the democratic preferences of any nation.', 'idx': 71033, 'input_ids': [1, 2644, 3478, 267, 3335, 265, 5652, 3423, 403, 282, 2635, 321, 293, 10936, 263, 516, 282, 2117, 10045, 292, 356, 1681, 1157, 260, 266, 1670, 985, 270, 1681, 2499, 267, 262, 5048, 265, 3478, 403, 282, 6790, 264, 3335, 3849, 1008, 12871, 399, 26756, 360, 262, 1681, 985, 269, 5220, 264, 7246, 260, 2777, 1309, 403, 298, 282, 427, 264, 2399, 262, 8221, 7162, 265, 356, 2080, 260, 2], 'token_type_ids': [0, 0, 0, 0, 0, 0, 0, 0, 0, 0, 0, 0, 0, 0, 0, 0, 0, 0, 0, 0, 0, 0, 0, 0, 0, 0, 0, 0, 0, 0, 0, 0, 0, 0, 0, 0, 0, 0, 0, 0, 0, 0, 0, 0, 0, 0, 0, 0, 0, 0, 0, 0, 0, 0, 0, 0, 0, 0, 0, 0, 0, 0, 0, 0, 0, 0, 0, 0, 0, 0], 'attention_mask': [1, 1, 1, 1, 1, 1, 1, 1, 1, 1, 1, 1, 1, 1, 1, 1, 1, 1, 1, 1, 1, 1, 1, 1, 1, 1, 1, 1, 1, 1, 1, 1, 1, 1, 1, 1, 1, 1, 1, 1, 1, 1, 1, 1, 1, 1, 1, 1, 1, 1, 1, 1, 1, 1, 1, 1, 1, 1, 1, 1, 1, 1, 1, 1, 1, 1, 1, 1, 1, 1]}\n"
          ]
        }
      ]
    },
    {
      "cell_type": "markdown",
      "source": [
        "## Setting training arguments / hyperparameters"
      ],
      "metadata": {
        "id": "mYAPVubATCCM"
      }
    },
    {
      "cell_type": "markdown",
      "source": [
        "The following cells set several important hyperparameters. We chose parameters that work well in general to avoid the need for hyperparameter search. Further below, we also provide code for hyperparameter search, if researchers want to try to increase performance by a few percentage points. "
      ],
      "metadata": {
        "id": "ylyp52i6T-NG"
      }
    },
    {
      "cell_type": "code",
      "source": [
        "# Set the directory to write the fine-tuned model and training logs to.\n",
        "# With google colab, this will create a temporary folder, which will be deleted once you disconnect. \n",
        "# You can connect to your personal google drive to save models and logs properly.\n",
        "training_directory = \"BERT-demo\"\n",
        "\n",
        "# FP16 is a hyperparameter which can increase training speed and reduce memory consumption, but only on GPU and if batch-size > 8, see here: https://huggingface.co/transformers/performance.html?#fp16\n",
        "# FP16 does not work on CPU or for multilingual mDeBERTa models\n",
        "fp16_bool = True if torch.cuda.is_available() else False\n",
        "if \"mdeberta\" in model_name.lower(): fp16_bool = False  # multilingual mDeBERTa does not support FP16 yet: https://github.com/microsoft/DeBERTa/issues/77\n",
        "# in case of hyperparameter search end the end: FP16 has to be set to False. The integrated hyperparameter search with the Hugging Face Trainer can lead to errors otherwise. \n",
        "fp16_bool = False"
      ],
      "metadata": {
        "id": "fOo4B5uNMZax"
      },
      "execution_count": null,
      "outputs": []
    },
    {
      "cell_type": "code",
      "source": [
        "from transformers import TrainingArguments, Trainer, logging\n",
        "\n",
        "LEARNING_RATE = 2e-5\n",
        "EPOCHS = 5\n",
        "\n",
        "# Hugging Face tipps to increase training speed and decrease out-of-memory (OOM) issues: https://huggingface.co/transformers/performance.html?\n",
        "# Overview of all training arguments: https://huggingface.co/transformers/main_classes/trainer.html#transformers.TrainingArguments\n",
        "train_args = TrainingArguments(\n",
        "    output_dir=f'./results/{training_directory}',\n",
        "    logging_dir=f'./logs/{training_directory}',\n",
        "    num_train_epochs=EPOCHS,  # this can be increased, but higher values increase training time. Good values for NLI are between 3 and 20.\n",
        "    learning_rate=LEARNING_RATE,\n",
        "    per_device_train_batch_size=8,  # if you get an out-of-memory error, reduce this value to 8 or 4 and restart the runtime. Higher values increase training speed, but also increase memory requirements. Ideal values here are always a multiple of 8.\n",
        "    per_device_eval_batch_size=80,  # if you get an out-of-memory error, reduce this value, e.g. to 40 and restart the runtime\n",
        "    gradient_accumulation_steps=2, # Can be used in case of memory problems to reduce effective batch size. accumulates gradients over X steps, only then backward/update. decreases memory usage, but also slightly speed. (!adapt/halve batch size accordingly)\n",
        "    warmup_ratio=0.06,  # a good normal default value is 0.06 for normal BERT-base models, but since we want to reuse prior NLI knowledge and avoid catastrophic forgetting, we set the value higher\n",
        "    weight_decay=0.1,\n",
        "    seed=SEED_GLOBAL,\n",
        "    load_best_model_at_end=True,\n",
        "    metric_for_best_model=\"accuracy\",\n",
        "    fp16=fp16_bool,  # Can speed up training and reduce memory consumption, but only makes sense at batch-size > 8. loads two copies of model weights, which creates overhead. https://huggingface.co/transformers/performance.html?#fp16\n",
        "    fp16_full_eval=fp16_bool,\n",
        "    evaluation_strategy=\"epoch\", # options: \"no\"/\"steps\"/\"epoch\"\n",
        "    #eval_steps=10_000,  # evaluate after n steps if evaluation_strategy!='steps'. defaults to logging_steps\n",
        "    save_strategy = \"epoch\",  # options: \"no\"/\"steps\"/\"epoch\"\n",
        "    #save_steps=10_000,              # Number of updates steps before two checkpoint saves.\n",
        "    #save_total_limit=10,             # If a value is passed, will limit the total amount of checkpoints. Deletes the older checkpoints in output_dir\n",
        "    #logging_strategy=\"steps\",\n",
        "    report_to=\"all\",  # \"all\"  # logging\n",
        "    #push_to_hub=False,\n",
        "    #push_to_hub_model_id=f\"{model_name}-finetuned-{task}\",\n",
        ")\n"
      ],
      "metadata": {
        "id": "M4bWptLg4qin"
      },
      "execution_count": 15,
      "outputs": []
    },
    {
      "cell_type": "code",
      "source": [
        "### Function to calculate metrics\n",
        "from sklearn.metrics import balanced_accuracy_score, precision_recall_fscore_support, accuracy_score, classification_report\n",
        "import warnings\n",
        "\n",
        "def compute_metrics_standard(eval_pred):\n",
        "    with warnings.catch_warnings():\n",
        "        warnings.filterwarnings(\"ignore\")\n",
        "        \n",
        "        labels = eval_pred.label_ids\n",
        "        pred_logits = eval_pred.predictions\n",
        "        preds_max = np.argmax(pred_logits, axis=1)  # argmax on each row (axis=1) in the tensor\n",
        "\n",
        "        ## metrics\n",
        "        precision_macro, recall_macro, f1_macro, _ = precision_recall_fscore_support(labels, preds_max, average='macro')  # https://scikit-learn.org/stable/modules/generated/sklearn.metrics.precision_recall_fscore_support.html\n",
        "        precision_micro, recall_micro, f1_micro, _ = precision_recall_fscore_support(labels, preds_max, average='micro')  # https://scikit-learn.org/stable/modules/generated/sklearn.metrics.precision_recall_fscore_support.html\n",
        "        acc_balanced = balanced_accuracy_score(labels, preds_max)\n",
        "        acc_not_balanced = accuracy_score(labels, preds_max)\n",
        "\n",
        "        metrics = {\n",
        "            'accuracy': acc_not_balanced,\n",
        "            'f1_macro': f1_macro,\n",
        "            'accuracy_balanced': acc_balanced,\n",
        "            'f1_micro': f1_micro,\n",
        "            'precision_macro': precision_macro,\n",
        "            'recall_macro': recall_macro,\n",
        "            'precision_micro': precision_micro,\n",
        "            'recall_micro': recall_micro,\n",
        "            #'label_gold_raw': labels,\n",
        "            #'label_predicted_raw': preds_max\n",
        "        }\n",
        "        #print(\"Aggregate metrics: \", {key: metrics[key] for key in metrics if key not in [\"label_gold_raw\", \"label_predicted_raw\"]} )  # print metrics but without label lists\n",
        "        #print(\"Detailed metrics: \", classification_report(labels, preds_max, labels=np.sort(pd.factorize(label_text, sort=True)[0]), target_names=label_text, sample_weight=None, digits=2, output_dict=True,\n",
        "        #                            zero_division='warn'), \"\\n\")\n",
        "        \n",
        "        return metrics\n"
      ],
      "metadata": {
        "id": "lcXPQ25F77gG"
      },
      "execution_count": 16,
      "outputs": []
    },
    {
      "cell_type": "markdown",
      "source": [
        "## Fine-tuning and evaluation"
      ],
      "metadata": {
        "id": "06NpYcJtVz7O"
      }
    },
    {
      "cell_type": "markdown",
      "source": [
        "Let's start fine-tuning the model! \n",
        "\n",
        "If you get an 'out-of-memory' error, reduce the 'per_device_train_batch_size' to 8 or 4 in the TrainingArguments above and restart the runtime. If you don't restart your runtime (menu to the to left 'Runtime' > 'Restart runtime') and rerun the entire script, the 'out-of-memory' error will probably not go away. "
      ],
      "metadata": {
        "id": "DYLN5SaWXVOH"
      }
    },
    {
      "cell_type": "code",
      "source": [
        "# training\n",
        "trainer = Trainer( \n",
        "    model=model,\n",
        "    tokenizer=tokenizer,\n",
        "    args=train_args,\n",
        "    train_dataset=dataset[\"train\"],\n",
        "    eval_dataset=dataset[\"test\"],\n",
        "    compute_metrics=compute_metrics_standard  \n",
        ")\n",
        "\n",
        "trainer.train()\n"
      ],
      "metadata": {
        "colab": {
          "base_uri": "https://localhost:8080/",
          "height": 341
        },
        "outputId": "368da687-cfcf-4027-abe7-a41416cc0224",
        "id": "w2PIfFvKVmlp"
      },
      "execution_count": 17,
      "outputs": [
        {
          "output_type": "stream",
          "name": "stderr",
          "text": [
            "/usr/local/lib/python3.10/dist-packages/transformers/optimization.py:391: FutureWarning: This implementation of AdamW is deprecated and will be removed in a future version. Use the PyTorch implementation torch.optim.AdamW instead, or set `no_deprecation_warning=True` to disable this warning\n",
            "  warnings.warn(\n",
            "You're using a DebertaV2TokenizerFast tokenizer. Please note that with a fast tokenizer, using the `__call__` method is faster than using a method to encode the text followed by a call to the `pad` method to get a padded encoding.\n"
          ]
        },
        {
          "output_type": "display_data",
          "data": {
            "text/plain": [
              "<IPython.core.display.HTML object>"
            ],
            "text/html": [
              "\n",
              "    <div>\n",
              "      \n",
              "      <progress value='310' max='310' style='width:300px; height:20px; vertical-align: middle;'></progress>\n",
              "      [310/310 19:11, Epoch 4/5]\n",
              "    </div>\n",
              "    <table border=\"1\" class=\"dataframe\">\n",
              "  <thead>\n",
              " <tr style=\"text-align: left;\">\n",
              "      <th>Epoch</th>\n",
              "      <th>Training Loss</th>\n",
              "      <th>Validation Loss</th>\n",
              "      <th>Accuracy</th>\n",
              "      <th>F1 Macro</th>\n",
              "      <th>Accuracy Balanced</th>\n",
              "      <th>F1 Micro</th>\n",
              "      <th>Precision Macro</th>\n",
              "      <th>Recall Macro</th>\n",
              "      <th>Precision Micro</th>\n",
              "      <th>Recall Micro</th>\n",
              "    </tr>\n",
              "  </thead>\n",
              "  <tbody>\n",
              "    <tr>\n",
              "      <td>0</td>\n",
              "      <td>No log</td>\n",
              "      <td>0.172034</td>\n",
              "      <td>0.940750</td>\n",
              "      <td>0.552534</td>\n",
              "      <td>0.630890</td>\n",
              "      <td>0.940750</td>\n",
              "      <td>0.508462</td>\n",
              "      <td>0.630890</td>\n",
              "      <td>0.940750</td>\n",
              "      <td>0.940750</td>\n",
              "    </tr>\n",
              "    <tr>\n",
              "      <td>2</td>\n",
              "      <td>No log</td>\n",
              "      <td>0.241830</td>\n",
              "      <td>0.938250</td>\n",
              "      <td>0.605839</td>\n",
              "      <td>0.649234</td>\n",
              "      <td>0.938250</td>\n",
              "      <td>0.811053</td>\n",
              "      <td>0.649234</td>\n",
              "      <td>0.938250</td>\n",
              "      <td>0.938250</td>\n",
              "    </tr>\n",
              "    <tr>\n",
              "      <td>2</td>\n",
              "      <td>No log</td>\n",
              "      <td>0.201216</td>\n",
              "      <td>0.948500</td>\n",
              "      <td>0.743127</td>\n",
              "      <td>0.749353</td>\n",
              "      <td>0.948500</td>\n",
              "      <td>0.754048</td>\n",
              "      <td>0.749353</td>\n",
              "      <td>0.948500</td>\n",
              "      <td>0.948500</td>\n",
              "    </tr>\n",
              "    <tr>\n",
              "      <td>4</td>\n",
              "      <td>No log</td>\n",
              "      <td>0.270814</td>\n",
              "      <td>0.938500</td>\n",
              "      <td>0.725317</td>\n",
              "      <td>0.794548</td>\n",
              "      <td>0.938500</td>\n",
              "      <td>0.677100</td>\n",
              "      <td>0.794548</td>\n",
              "      <td>0.938500</td>\n",
              "      <td>0.938500</td>\n",
              "    </tr>\n",
              "    <tr>\n",
              "      <td>4</td>\n",
              "      <td>No log</td>\n",
              "      <td>0.331700</td>\n",
              "      <td>0.934750</td>\n",
              "      <td>0.727196</td>\n",
              "      <td>0.798815</td>\n",
              "      <td>0.934750</td>\n",
              "      <td>0.688309</td>\n",
              "      <td>0.798815</td>\n",
              "      <td>0.934750</td>\n",
              "      <td>0.934750</td>\n",
              "    </tr>\n",
              "  </tbody>\n",
              "</table><p>"
            ]
          },
          "metadata": {}
        },
        {
          "output_type": "execute_result",
          "data": {
            "text/plain": [
              "TrainOutput(global_step=310, training_loss=0.3029970968923261, metrics={'train_runtime': 1153.433, 'train_samples_per_second': 4.335, 'train_steps_per_second': 0.269, 'total_flos': 871524828676656.0, 'train_loss': 0.3029970968923261, 'epoch': 4.96})"
            ]
          },
          "metadata": {},
          "execution_count": 17
        }
      ]
    },
    {
      "cell_type": "code",
      "source": [
        "# Evaluate the fine-tuned model on the held-out test set\n",
        "#results = trainer.evaluate()\n",
        "#print(results)"
      ],
      "metadata": {
        "id": "tgXO927fVmlq"
      },
      "execution_count": 18,
      "outputs": []
    },
    {
      "cell_type": "markdown",
      "source": [
        "## Inference with your fine-tuned model"
      ],
      "metadata": {
        "id": "9JhJrGOjztvN"
      }
    },
    {
      "cell_type": "code",
      "source": [
        "from transformers import pipeline\n",
        "import torch\n",
        "device = \"cuda:0\" if torch.cuda.is_available() else \"cpu\"  # use GPU (cuda) if available, otherwise use CPU\n",
        "\n",
        "# documentation: https://huggingface.co/docs/transformers/main_classes/pipelines#transformers.ZeroShotClassificationPipeline\n",
        "pipe_classifier = pipeline(\n",
        "    \"text-classification\", \n",
        "    model=model,  # if you have trained a model above, load_best_model_at_end in the training arguments has automatically replaced model with the fine-tuned model\n",
        "    tokenizer=tokenizer,\n",
        "    framework=\"pt\",\n",
        "    device=device,\n",
        ")"
      ],
      "metadata": {
        "id": "9LkW5nyxztvV"
      },
      "execution_count": 19,
      "outputs": []
    },
    {
      "cell_type": "markdown",
      "source": [
        "We now apply the pipeline to unseen texts. We re-use the df_test data-frame here for simplicity, but it could be any other dataset. It only needs a text column. Note that we do not need to re-format the text data anymore here, as this is handled internally by the Hugging Face zero-shot pipeline. If you want to better understand the arguments in the pipeline below, we recommend reading the [documentation here](https://huggingface.co/docs/transformers/main_classes/pipelines#transformers.ZeroShotClassificationPipeline). "
      ],
      "metadata": {
        "id": "aVztII75ztvV"
      }
    },
    {
      "cell_type": "code",
      "source": [
        "# create a dummy data frame for illustration\n",
        "df_inference = df_test[[\"text\", \"label_text\"]].sample(n=1000, random_state=42).copy(deep=True)\n",
        "text_lst = df_inference[\"text\"].tolist()\n",
        "\n",
        "# use the pipeline with your chosen model for inference (prediction)\n",
        "pipe_output = pipe_classifier(\n",
        "    text_lst,  # input any list of texts here\n",
        "    batch_size=32  # reduce this number to 8 or 16 if you get an out-of-memory error\n",
        ")\n",
        "print(pipe_output)\n",
        "\n",
        "df_output = pd.DataFrame(pipe_output)\n",
        "\n",
        "# add inference data to your original dataframe\n",
        "df_inference[\"label_text_pred\"] = df_output[\"label\"].tolist()\n",
        "df_inference[\"label_text_pred_probability\"] = df_output[\"score\"].round(2).tolist() \n"
      ],
      "metadata": {
        "id": "YqRkUax5ztvV",
        "colab": {
          "base_uri": "https://localhost:8080/"
        },
        "outputId": "5b8a6dff-98c2-46ec-ee6b-bd698c98c17d"
      },
      "execution_count": 20,
      "outputs": [
        {
          "output_type": "stream",
          "name": "stdout",
          "text": [
            "[{'label': 'Other', 'score': 0.9949029684066772}, {'label': 'Other', 'score': 0.9950873255729675}, {'label': 'Other', 'score': 0.9955647587776184}, {'label': 'Other', 'score': 0.9951300621032715}, {'label': 'Other', 'score': 0.9864142537117004}, {'label': 'Other', 'score': 0.9945248365402222}, {'label': 'Other', 'score': 0.9956797361373901}, {'label': 'Other', 'score': 0.9959794282913208}, {'label': 'Other', 'score': 0.9926238059997559}, {'label': 'Other', 'score': 0.9946034550666809}, {'label': 'Other', 'score': 0.9963145852088928}, {'label': 'Military: Negative', 'score': 0.6199309825897217}, {'label': 'Other', 'score': 0.9955765008926392}, {'label': 'Other', 'score': 0.9954009652137756}, {'label': 'Other', 'score': 0.9953039884567261}, {'label': 'Other', 'score': 0.9950782060623169}, {'label': 'Other', 'score': 0.9944655299186707}, {'label': 'Other', 'score': 0.9949158430099487}, {'label': 'Other', 'score': 0.9957613348960876}, {'label': 'Other', 'score': 0.9951813817024231}, {'label': 'Other', 'score': 0.9949213862419128}, {'label': 'Other', 'score': 0.9953116774559021}, {'label': 'Other', 'score': 0.9952453970909119}, {'label': 'Other', 'score': 0.9948251247406006}, {'label': 'Other', 'score': 0.9957002401351929}, {'label': 'Other', 'score': 0.9935449361801147}, {'label': 'Other', 'score': 0.9948325157165527}, {'label': 'Other', 'score': 0.9958581328392029}, {'label': 'Other', 'score': 0.9951077699661255}, {'label': 'Other', 'score': 0.9957049489021301}, {'label': 'Military: Positive', 'score': 0.9722321033477783}, {'label': 'Other', 'score': 0.9951139688491821}, {'label': 'Other', 'score': 0.994077205657959}, {'label': 'Other', 'score': 0.996088981628418}, {'label': 'Other', 'score': 0.9953979849815369}, {'label': 'Other', 'score': 0.9952450394630432}, {'label': 'Other', 'score': 0.9953551292419434}, {'label': 'Other', 'score': 0.9955839514732361}, {'label': 'Other', 'score': 0.9958437085151672}, {'label': 'Other', 'score': 0.9954875111579895}, {'label': 'Other', 'score': 0.9950116872787476}, {'label': 'Other', 'score': 0.9951194524765015}, {'label': 'Other', 'score': 0.9951866269111633}, {'label': 'Other', 'score': 0.9956022500991821}, {'label': 'Other', 'score': 0.9948306679725647}, {'label': 'Other', 'score': 0.995612382888794}, {'label': 'Other', 'score': 0.9954977035522461}, {'label': 'Military: Positive', 'score': 0.9663248658180237}, {'label': 'Military: Positive', 'score': 0.9754155874252319}, {'label': 'Other', 'score': 0.995567262172699}, {'label': 'Other', 'score': 0.995245635509491}, {'label': 'Military: Negative', 'score': 0.6306834816932678}, {'label': 'Other', 'score': 0.9948614239692688}, {'label': 'Other', 'score': 0.9954492449760437}, {'label': 'Other', 'score': 0.9956040382385254}, {'label': 'Military: Positive', 'score': 0.9413349032402039}, {'label': 'Other', 'score': 0.9955322742462158}, {'label': 'Other', 'score': 0.9954654574394226}, {'label': 'Other', 'score': 0.9953954815864563}, {'label': 'Other', 'score': 0.995096743106842}, {'label': 'Other', 'score': 0.9952192902565002}, {'label': 'Other', 'score': 0.9734496474266052}, {'label': 'Other', 'score': 0.9947758913040161}, {'label': 'Military: Positive', 'score': 0.8122822642326355}, {'label': 'Military: Positive', 'score': 0.9449551701545715}, {'label': 'Other', 'score': 0.9948594570159912}, {'label': 'Other', 'score': 0.9949794411659241}, {'label': 'Other', 'score': 0.9955484867095947}, {'label': 'Other', 'score': 0.9944285154342651}, {'label': 'Other', 'score': 0.9957901835441589}, {'label': 'Other', 'score': 0.9951997995376587}, {'label': 'Other', 'score': 0.9952948689460754}, {'label': 'Other', 'score': 0.9947190284729004}, {'label': 'Other', 'score': 0.994707465171814}, {'label': 'Other', 'score': 0.9956881403923035}, {'label': 'Other', 'score': 0.9954527020454407}, {'label': 'Other', 'score': 0.9950472116470337}, {'label': 'Other', 'score': 0.9937521815299988}, {'label': 'Other', 'score': 0.9949442744255066}, {'label': 'Other', 'score': 0.9952280521392822}, {'label': 'Other', 'score': 0.9955269694328308}, {'label': 'Other', 'score': 0.9951263666152954}, {'label': 'Other', 'score': 0.9953972697257996}, {'label': 'Other', 'score': 0.9944769740104675}, {'label': 'Military: Positive', 'score': 0.943487823009491}, {'label': 'Other', 'score': 0.9954551458358765}, {'label': 'Other', 'score': 0.9951500296592712}, {'label': 'Other', 'score': 0.9954792261123657}, {'label': 'Other', 'score': 0.9960243701934814}, {'label': 'Other', 'score': 0.995281994342804}, {'label': 'Other', 'score': 0.9949215054512024}, {'label': 'Other', 'score': 0.9950679540634155}, {'label': 'Other', 'score': 0.9941188097000122}, {'label': 'Other', 'score': 0.9951395988464355}, {'label': 'Other', 'score': 0.9949297308921814}, {'label': 'Other', 'score': 0.9955739974975586}, {'label': 'Other', 'score': 0.9948141574859619}, {'label': 'Other', 'score': 0.9959481358528137}, {'label': 'Other', 'score': 0.9957600235939026}, {'label': 'Other', 'score': 0.99281245470047}, {'label': 'Other', 'score': 0.9955745935440063}, {'label': 'Other', 'score': 0.9959361553192139}, {'label': 'Other', 'score': 0.9944402575492859}, {'label': 'Military: Positive', 'score': 0.8783620595932007}, {'label': 'Other', 'score': 0.9936933517456055}, {'label': 'Other', 'score': 0.9955164790153503}, {'label': 'Other', 'score': 0.9951326251029968}, {'label': 'Military: Positive', 'score': 0.47453567385673523}, {'label': 'Other', 'score': 0.9954223036766052}, {'label': 'Other', 'score': 0.9943127632141113}, {'label': 'Other', 'score': 0.9945451021194458}, {'label': 'Other', 'score': 0.9956034421920776}, {'label': 'Other', 'score': 0.9945123195648193}, {'label': 'Other', 'score': 0.9951460957527161}, {'label': 'Other', 'score': 0.9955283999443054}, {'label': 'Other', 'score': 0.9940522313117981}, {'label': 'Other', 'score': 0.9947584271430969}, {'label': 'Other', 'score': 0.9952991008758545}, {'label': 'Other', 'score': 0.994239330291748}, {'label': 'Other', 'score': 0.9949367046356201}, {'label': 'Other', 'score': 0.9959492683410645}, {'label': 'Other', 'score': 0.9945167899131775}, {'label': 'Other', 'score': 0.9955691695213318}, {'label': 'Other', 'score': 0.9958668947219849}, {'label': 'Other', 'score': 0.9955657124519348}, {'label': 'Other', 'score': 0.9958270192146301}, {'label': 'Other', 'score': 0.9959414601325989}, {'label': 'Other', 'score': 0.9948104619979858}, {'label': 'Other', 'score': 0.9953391551971436}, {'label': 'Military: Positive', 'score': 0.7529523968696594}, {'label': 'Other', 'score': 0.9955258965492249}, {'label': 'Other', 'score': 0.9955499172210693}, {'label': 'Other', 'score': 0.9954845905303955}, {'label': 'Other', 'score': 0.9954134821891785}, {'label': 'Other', 'score': 0.9952774047851562}, {'label': 'Other', 'score': 0.9933116436004639}, {'label': 'Military: Positive', 'score': 0.9701991677284241}, {'label': 'Military: Positive', 'score': 0.9778943061828613}, {'label': 'Other', 'score': 0.9926602840423584}, {'label': 'Other', 'score': 0.9952574372291565}, {'label': 'Other', 'score': 0.9956295490264893}, {'label': 'Other', 'score': 0.995337724685669}, {'label': 'Other', 'score': 0.995429515838623}, {'label': 'Other', 'score': 0.9952418804168701}, {'label': 'Other', 'score': 0.9955198764801025}, {'label': 'Other', 'score': 0.9945188164710999}, {'label': 'Other', 'score': 0.9951635599136353}, {'label': 'Other', 'score': 0.9957529306411743}, {'label': 'Other', 'score': 0.9950826168060303}, {'label': 'Other', 'score': 0.9960532188415527}, {'label': 'Other', 'score': 0.9959325194358826}, {'label': 'Other', 'score': 0.9952511787414551}, {'label': 'Other', 'score': 0.9948188662528992}, {'label': 'Other', 'score': 0.9956763386726379}, {'label': 'Other', 'score': 0.9957424998283386}, {'label': 'Other', 'score': 0.9953758716583252}, {'label': 'Other', 'score': 0.9953652620315552}, {'label': 'Other', 'score': 0.9959049820899963}, {'label': 'Other', 'score': 0.9943296313285828}, {'label': 'Other', 'score': 0.9953083395957947}, {'label': 'Other', 'score': 0.9953998923301697}, {'label': 'Other', 'score': 0.9955257773399353}, {'label': 'Military: Positive', 'score': 0.9541195034980774}, {'label': 'Other', 'score': 0.9944726824760437}, {'label': 'Other', 'score': 0.9950934648513794}, {'label': 'Other', 'score': 0.9953031539916992}, {'label': 'Military: Positive', 'score': 0.9297822713851929}, {'label': 'Military: Positive', 'score': 0.9773657321929932}, {'label': 'Other', 'score': 0.9960606694221497}, {'label': 'Military: Positive', 'score': 0.9381591081619263}, {'label': 'Other', 'score': 0.9937664270401001}, {'label': 'Other', 'score': 0.9957142472267151}, {'label': 'Other', 'score': 0.9956087470054626}, {'label': 'Other', 'score': 0.983086109161377}, {'label': 'Other', 'score': 0.9932608008384705}, {'label': 'Other', 'score': 0.9942580461502075}, {'label': 'Other', 'score': 0.9946146607398987}, {'label': 'Other', 'score': 0.9957951307296753}, {'label': 'Other', 'score': 0.9945153594017029}, {'label': 'Other', 'score': 0.9958614706993103}, {'label': 'Other', 'score': 0.9954513907432556}, {'label': 'Other', 'score': 0.9946948885917664}, {'label': 'Other', 'score': 0.994909942150116}, {'label': 'Other', 'score': 0.9957044720649719}, {'label': 'Other', 'score': 0.9954386353492737}, {'label': 'Other', 'score': 0.9783037304878235}, {'label': 'Military: Positive', 'score': 0.9655457139015198}, {'label': 'Other', 'score': 0.994644284248352}, {'label': 'Other', 'score': 0.9954055547714233}, {'label': 'Other', 'score': 0.9944654107093811}, {'label': 'Other', 'score': 0.9951736330986023}, {'label': 'Other', 'score': 0.9958679676055908}, {'label': 'Other', 'score': 0.9951145648956299}, {'label': 'Other', 'score': 0.9956406354904175}, {'label': 'Other', 'score': 0.9957740902900696}, {'label': 'Other', 'score': 0.9951529502868652}, {'label': 'Other', 'score': 0.9951995611190796}, {'label': 'Other', 'score': 0.9950937032699585}, {'label': 'Other', 'score': 0.9951053857803345}, {'label': 'Other', 'score': 0.9956244826316833}, {'label': 'Other', 'score': 0.9944896697998047}, {'label': 'Other', 'score': 0.995537519454956}, {'label': 'Other', 'score': 0.9949265718460083}, {'label': 'Military: Negative', 'score': 0.6429036259651184}, {'label': 'Other', 'score': 0.9947592616081238}, {'label': 'Military: Negative', 'score': 0.8613058924674988}, {'label': 'Other', 'score': 0.9957069754600525}, {'label': 'Other', 'score': 0.9959537982940674}, {'label': 'Other', 'score': 0.9953567385673523}, {'label': 'Other', 'score': 0.9944751858711243}, {'label': 'Other', 'score': 0.9953829646110535}, {'label': 'Other', 'score': 0.9960636496543884}, {'label': 'Other', 'score': 0.9943538904190063}, {'label': 'Military: Negative', 'score': 0.8730817437171936}, {'label': 'Military: Positive', 'score': 0.9429755806922913}, {'label': 'Other', 'score': 0.9953428506851196}, {'label': 'Other', 'score': 0.9957700371742249}, {'label': 'Other', 'score': 0.9937630295753479}, {'label': 'Other', 'score': 0.9959114789962769}, {'label': 'Other', 'score': 0.9949836730957031}, {'label': 'Other', 'score': 0.99489426612854}, {'label': 'Other', 'score': 0.995192289352417}, {'label': 'Other', 'score': 0.9950177073478699}, {'label': 'Other', 'score': 0.995590329170227}, {'label': 'Other', 'score': 0.9110170602798462}, {'label': 'Other', 'score': 0.9938302636146545}, {'label': 'Military: Positive', 'score': 0.8965756893157959}, {'label': 'Other', 'score': 0.9953822493553162}, {'label': 'Other', 'score': 0.9954557418823242}, {'label': 'Other', 'score': 0.9959039092063904}, {'label': 'Other', 'score': 0.9952432513237}, {'label': 'Other', 'score': 0.9953441023826599}, {'label': 'Other', 'score': 0.9958273768424988}, {'label': 'Military: Positive', 'score': 0.948676586151123}, {'label': 'Other', 'score': 0.9947592616081238}, {'label': 'Other', 'score': 0.9945570230484009}, {'label': 'Other', 'score': 0.9947691559791565}, {'label': 'Other', 'score': 0.9957084655761719}, {'label': 'Other', 'score': 0.9945664405822754}, {'label': 'Other', 'score': 0.9952621459960938}, {'label': 'Other', 'score': 0.9950001239776611}, {'label': 'Other', 'score': 0.9958723187446594}, {'label': 'Other', 'score': 0.995721697807312}, {'label': 'Other', 'score': 0.9938963055610657}, {'label': 'Other', 'score': 0.9945911765098572}, {'label': 'Military: Positive', 'score': 0.9760037660598755}, {'label': 'Other', 'score': 0.9935019612312317}, {'label': 'Other', 'score': 0.994602620601654}, {'label': 'Other', 'score': 0.9955748319625854}, {'label': 'Other', 'score': 0.9958474040031433}, {'label': 'Other', 'score': 0.9937440752983093}, {'label': 'Military: Positive', 'score': 0.9455662369728088}, {'label': 'Other', 'score': 0.9954836368560791}, {'label': 'Other', 'score': 0.9954144954681396}, {'label': 'Other', 'score': 0.9958181977272034}, {'label': 'Other', 'score': 0.9951838850975037}, {'label': 'Other', 'score': 0.9951397180557251}, {'label': 'Other', 'score': 0.9947789907455444}, {'label': 'Other', 'score': 0.9955377578735352}, {'label': 'Other', 'score': 0.9954220652580261}, {'label': 'Other', 'score': 0.9948464632034302}, {'label': 'Other', 'score': 0.9960687160491943}, {'label': 'Other', 'score': 0.9952190518379211}, {'label': 'Other', 'score': 0.9950608611106873}, {'label': 'Other', 'score': 0.9945530295372009}, {'label': 'Other', 'score': 0.9963307976722717}, {'label': 'Other', 'score': 0.9948830604553223}, {'label': 'Other', 'score': 0.9949865341186523}, {'label': 'Other', 'score': 0.9950063228607178}, {'label': 'Other', 'score': 0.9951428174972534}, {'label': 'Other', 'score': 0.995319664478302}, {'label': 'Other', 'score': 0.9957548379898071}, {'label': 'Other', 'score': 0.9959231615066528}, {'label': 'Other', 'score': 0.995364785194397}, {'label': 'Other', 'score': 0.9946998357772827}, {'label': 'Other', 'score': 0.9942591190338135}, {'label': 'Other', 'score': 0.9954060316085815}, {'label': 'Other', 'score': 0.9955434203147888}, {'label': 'Other', 'score': 0.9959379434585571}, {'label': 'Other', 'score': 0.9956974983215332}, {'label': 'Other', 'score': 0.9949895739555359}, {'label': 'Military: Positive', 'score': 0.9728465676307678}, {'label': 'Other', 'score': 0.9952580332756042}, {'label': 'Other', 'score': 0.996222972869873}, {'label': 'Other', 'score': 0.995518684387207}, {'label': 'Other', 'score': 0.9954740405082703}, {'label': 'Other', 'score': 0.991193950176239}, {'label': 'Other', 'score': 0.9954456090927124}, {'label': 'Other', 'score': 0.9956641793251038}, {'label': 'Other', 'score': 0.9958165287971497}, {'label': 'Other', 'score': 0.9937735795974731}, {'label': 'Military: Positive', 'score': 0.9323348999023438}, {'label': 'Other', 'score': 0.9955891370773315}, {'label': 'Other', 'score': 0.9940716624259949}, {'label': 'Other', 'score': 0.9961310625076294}, {'label': 'Other', 'score': 0.9953078627586365}, {'label': 'Other', 'score': 0.9706768989562988}, {'label': 'Military: Negative', 'score': 0.8369644284248352}, {'label': 'Other', 'score': 0.9950309991836548}, {'label': 'Other', 'score': 0.9953357577323914}, {'label': 'Other', 'score': 0.9953446984291077}, {'label': 'Other', 'score': 0.9961609840393066}, {'label': 'Other', 'score': 0.995898425579071}, {'label': 'Other', 'score': 0.9952576756477356}, {'label': 'Other', 'score': 0.9950186014175415}, {'label': 'Other', 'score': 0.9953016042709351}, {'label': 'Other', 'score': 0.9952619075775146}, {'label': 'Other', 'score': 0.9945878982543945}, {'label': 'Military: Negative', 'score': 0.868172287940979}, {'label': 'Other', 'score': 0.9925577640533447}, {'label': 'Other', 'score': 0.99544358253479}, {'label': 'Other', 'score': 0.9945604205131531}, {'label': 'Other', 'score': 0.9955924153327942}, {'label': 'Other', 'score': 0.9954857230186462}, {'label': 'Other', 'score': 0.9948186278343201}, {'label': 'Other', 'score': 0.9938437938690186}, {'label': 'Other', 'score': 0.9960402250289917}, {'label': 'Other', 'score': 0.9940140843391418}, {'label': 'Military: Positive', 'score': 0.8761999011039734}, {'label': 'Other', 'score': 0.9952391386032104}, {'label': 'Other', 'score': 0.9955078363418579}, {'label': 'Other', 'score': 0.9958896040916443}, {'label': 'Other', 'score': 0.9827376008033752}, {'label': 'Other', 'score': 0.9958978295326233}, {'label': 'Other', 'score': 0.9951226115226746}, {'label': 'Other', 'score': 0.9943101406097412}, {'label': 'Other', 'score': 0.9947932362556458}, {'label': 'Other', 'score': 0.9931851029396057}, {'label': 'Other', 'score': 0.9958010315895081}, {'label': 'Other', 'score': 0.9922122955322266}, {'label': 'Other', 'score': 0.9943733215332031}, {'label': 'Other', 'score': 0.9954954385757446}, {'label': 'Other', 'score': 0.9945555925369263}, {'label': 'Other', 'score': 0.9951499104499817}, {'label': 'Other', 'score': 0.9947770833969116}, {'label': 'Other', 'score': 0.9960364699363708}, {'label': 'Other', 'score': 0.9952186942100525}, {'label': 'Other', 'score': 0.995206892490387}, {'label': 'Other', 'score': 0.9950817823410034}, {'label': 'Other', 'score': 0.9957975149154663}, {'label': 'Other', 'score': 0.9949022531509399}, {'label': 'Other', 'score': 0.9952014684677124}, {'label': 'Military: Positive', 'score': 0.9776372909545898}, {'label': 'Other', 'score': 0.9953896999359131}, {'label': 'Other', 'score': 0.9950292706489563}, {'label': 'Other', 'score': 0.9953824877738953}, {'label': 'Other', 'score': 0.9947347640991211}, {'label': 'Other', 'score': 0.9949402809143066}, {'label': 'Other', 'score': 0.9947574138641357}, {'label': 'Other', 'score': 0.9950195550918579}, {'label': 'Other', 'score': 0.9952487349510193}, {'label': 'Other', 'score': 0.9953059554100037}, {'label': 'Other', 'score': 0.9958945512771606}, {'label': 'Military: Positive', 'score': 0.9469524025917053}, {'label': 'Other', 'score': 0.9949658513069153}, {'label': 'Military: Positive', 'score': 0.7584028840065002}, {'label': 'Other', 'score': 0.9957565665245056}, {'label': 'Other', 'score': 0.9955066442489624}, {'label': 'Other', 'score': 0.9947740435600281}, {'label': 'Other', 'score': 0.9953049421310425}, {'label': 'Other', 'score': 0.995306670665741}, {'label': 'Other', 'score': 0.9949127435684204}, {'label': 'Other', 'score': 0.9948630928993225}, {'label': 'Other', 'score': 0.9947293400764465}, {'label': 'Other', 'score': 0.9944990873336792}, {'label': 'Other', 'score': 0.9949356317520142}, {'label': 'Other', 'score': 0.9943918585777283}, {'label': 'Other', 'score': 0.9943209886550903}, {'label': 'Other', 'score': 0.9947766065597534}, {'label': 'Other', 'score': 0.9962512850761414}, {'label': 'Other', 'score': 0.994570791721344}, {'label': 'Other', 'score': 0.9945992231369019}, {'label': 'Other', 'score': 0.9941960573196411}, {'label': 'Other', 'score': 0.995781660079956}, {'label': 'Other', 'score': 0.9957438111305237}, {'label': 'Military: Positive', 'score': 0.5486568808555603}, {'label': 'Other', 'score': 0.9955974221229553}, {'label': 'Other', 'score': 0.9941743016242981}, {'label': 'Other', 'score': 0.9948639273643494}, {'label': 'Other', 'score': 0.9951943755149841}, {'label': 'Other', 'score': 0.6851075291633606}, {'label': 'Other', 'score': 0.995337963104248}, {'label': 'Other', 'score': 0.9951490759849548}, {'label': 'Other', 'score': 0.9960726499557495}, {'label': 'Military: Negative', 'score': 0.8600294589996338}, {'label': 'Other', 'score': 0.9947019219398499}, {'label': 'Other', 'score': 0.9955761432647705}, {'label': 'Other', 'score': 0.9952536821365356}, {'label': 'Military: Positive', 'score': 0.956273078918457}, {'label': 'Other', 'score': 0.9942804574966431}, {'label': 'Other', 'score': 0.9954755902290344}, {'label': 'Other', 'score': 0.9949914813041687}, {'label': 'Other', 'score': 0.9941493272781372}, {'label': 'Other', 'score': 0.9953124523162842}, {'label': 'Other', 'score': 0.9948076605796814}, {'label': 'Other', 'score': 0.9948024749755859}, {'label': 'Other', 'score': 0.9944873452186584}, {'label': 'Other', 'score': 0.9956170320510864}, {'label': 'Military: Positive', 'score': 0.971958339214325}, {'label': 'Other', 'score': 0.9952175617218018}, {'label': 'Other', 'score': 0.9958773851394653}, {'label': 'Other', 'score': 0.9958809614181519}, {'label': 'Other', 'score': 0.9942858815193176}, {'label': 'Other', 'score': 0.9955488443374634}, {'label': 'Other', 'score': 0.9949027299880981}, {'label': 'Other', 'score': 0.9715015888214111}, {'label': 'Other', 'score': 0.9959456324577332}, {'label': 'Other', 'score': 0.9941856861114502}, {'label': 'Other', 'score': 0.995079755783081}, {'label': 'Other', 'score': 0.9951417446136475}, {'label': 'Other', 'score': 0.9960383176803589}, {'label': 'Other', 'score': 0.9949588179588318}, {'label': 'Other', 'score': 0.9957483410835266}, {'label': 'Other', 'score': 0.9942495822906494}, {'label': 'Other', 'score': 0.9957869648933411}, {'label': 'Military: Negative', 'score': 0.8521506786346436}, {'label': 'Other', 'score': 0.9954811334609985}, {'label': 'Other', 'score': 0.9960417747497559}, {'label': 'Other', 'score': 0.9958842396736145}, {'label': 'Other', 'score': 0.9952310919761658}, {'label': 'Other', 'score': 0.9954979419708252}, {'label': 'Other', 'score': 0.9951671361923218}, {'label': 'Military: Positive', 'score': 0.9437566995620728}, {'label': 'Other', 'score': 0.9959596991539001}, {'label': 'Other', 'score': 0.9947404265403748}, {'label': 'Other', 'score': 0.9941809773445129}, {'label': 'Other', 'score': 0.9958252906799316}, {'label': 'Other', 'score': 0.9957830905914307}, {'label': 'Other', 'score': 0.9944018721580505}, {'label': 'Military: Positive', 'score': 0.9753084182739258}, {'label': 'Other', 'score': 0.9955496788024902}, {'label': 'Other', 'score': 0.994926929473877}, {'label': 'Other', 'score': 0.9957549571990967}, {'label': 'Other', 'score': 0.9940191507339478}, {'label': 'Military: Positive', 'score': 0.9500338435173035}, {'label': 'Other', 'score': 0.9958492517471313}, {'label': 'Other', 'score': 0.9956887364387512}, {'label': 'Other', 'score': 0.9955515265464783}, {'label': 'Other', 'score': 0.9955431818962097}, {'label': 'Other', 'score': 0.995125949382782}, {'label': 'Other', 'score': 0.9926186203956604}, {'label': 'Other', 'score': 0.9906213283538818}, {'label': 'Other', 'score': 0.995404839515686}, {'label': 'Other', 'score': 0.9941896200180054}, {'label': 'Other', 'score': 0.9948698282241821}, {'label': 'Military: Positive', 'score': 0.934502363204956}, {'label': 'Military: Positive', 'score': 0.9499828815460205}, {'label': 'Other', 'score': 0.995694637298584}, {'label': 'Other', 'score': 0.9950913190841675}, {'label': 'Other', 'score': 0.9959021210670471}, {'label': 'Other', 'score': 0.9954802989959717}, {'label': 'Other', 'score': 0.9959653615951538}, {'label': 'Other', 'score': 0.9950982928276062}, {'label': 'Other', 'score': 0.9963055849075317}, {'label': 'Other', 'score': 0.9950352907180786}, {'label': 'Other', 'score': 0.9956648945808411}, {'label': 'Other', 'score': 0.9951404333114624}, {'label': 'Other', 'score': 0.9951417446136475}, {'label': 'Other', 'score': 0.9958095550537109}, {'label': 'Other', 'score': 0.9961273074150085}, {'label': 'Other', 'score': 0.995765209197998}, {'label': 'Other', 'score': 0.9949703812599182}, {'label': 'Other', 'score': 0.9942027926445007}, {'label': 'Other', 'score': 0.9947781562805176}, {'label': 'Other', 'score': 0.9951177835464478}, {'label': 'Other', 'score': 0.9939780235290527}, {'label': 'Other', 'score': 0.9958866238594055}, {'label': 'Other', 'score': 0.9954777359962463}, {'label': 'Other', 'score': 0.995495080947876}, {'label': 'Military: Negative', 'score': 0.8175302147865295}, {'label': 'Other', 'score': 0.995140552520752}, {'label': 'Military: Positive', 'score': 0.9397104382514954}, {'label': 'Other', 'score': 0.9958581328392029}, {'label': 'Other', 'score': 0.9954482913017273}, {'label': 'Military: Positive', 'score': 0.5424901843070984}, {'label': 'Other', 'score': 0.9952750205993652}, {'label': 'Other', 'score': 0.995109498500824}, {'label': 'Other', 'score': 0.9946497082710266}, {'label': 'Other', 'score': 0.9944751858711243}, {'label': 'Other', 'score': 0.9948075413703918}, {'label': 'Other', 'score': 0.9951115250587463}, {'label': 'Other', 'score': 0.9961258769035339}, {'label': 'Other', 'score': 0.995598316192627}, {'label': 'Other', 'score': 0.9928649663925171}, {'label': 'Other', 'score': 0.9947838187217712}, {'label': 'Other', 'score': 0.9960331320762634}, {'label': 'Military: Positive', 'score': 0.949252188205719}, {'label': 'Other', 'score': 0.9959412813186646}, {'label': 'Other', 'score': 0.9956114888191223}, {'label': 'Other', 'score': 0.9953438639640808}, {'label': 'Other', 'score': 0.9947659969329834}, {'label': 'Other', 'score': 0.9960965514183044}, {'label': 'Other', 'score': 0.995644211769104}, {'label': 'Other', 'score': 0.9956393241882324}, {'label': 'Other', 'score': 0.994539201259613}, {'label': 'Other', 'score': 0.9955840706825256}, {'label': 'Other', 'score': 0.9948731064796448}, {'label': 'Other', 'score': 0.9952521324157715}, {'label': 'Other', 'score': 0.9955028891563416}, {'label': 'Other', 'score': 0.9955809712409973}, {'label': 'Military: Positive', 'score': 0.9601653218269348}, {'label': 'Military: Negative', 'score': 0.8597750067710876}, {'label': 'Other', 'score': 0.9957998394966125}, {'label': 'Other', 'score': 0.9953826069831848}, {'label': 'Military: Positive', 'score': 0.9776752591133118}, {'label': 'Military: Negative', 'score': 0.8694941401481628}, {'label': 'Other', 'score': 0.9948390126228333}, {'label': 'Other', 'score': 0.9953893423080444}, {'label': 'Other', 'score': 0.9955081939697266}, {'label': 'Other', 'score': 0.9955219030380249}, {'label': 'Other', 'score': 0.9957243204116821}, {'label': 'Other', 'score': 0.9949398040771484}, {'label': 'Other', 'score': 0.9956455826759338}, {'label': 'Other', 'score': 0.9954270124435425}, {'label': 'Other', 'score': 0.995274007320404}, {'label': 'Other', 'score': 0.9951359629631042}, {'label': 'Military: Positive', 'score': 0.6001980304718018}, {'label': 'Other', 'score': 0.995347797870636}, {'label': 'Other', 'score': 0.9938263297080994}, {'label': 'Other', 'score': 0.9948492646217346}, {'label': 'Other', 'score': 0.9950792789459229}, {'label': 'Other', 'score': 0.9954779744148254}, {'label': 'Military: Positive', 'score': 0.9426369071006775}, {'label': 'Other', 'score': 0.9952860474586487}, {'label': 'Other', 'score': 0.9897946715354919}, {'label': 'Other', 'score': 0.9710809588432312}, {'label': 'Other', 'score': 0.9949429631233215}, {'label': 'Other', 'score': 0.9948810338973999}, {'label': 'Other', 'score': 0.9959022402763367}, {'label': 'Military: Positive', 'score': 0.9630056023597717}, {'label': 'Other', 'score': 0.995500385761261}, {'label': 'Other', 'score': 0.9956206679344177}, {'label': 'Other', 'score': 0.9964550733566284}, {'label': 'Other', 'score': 0.9947847723960876}, {'label': 'Other', 'score': 0.9937232136726379}, {'label': 'Military: Positive', 'score': 0.9663682579994202}, {'label': 'Other', 'score': 0.995453953742981}, {'label': 'Other', 'score': 0.9945166707038879}, {'label': 'Other', 'score': 0.9957911968231201}, {'label': 'Other', 'score': 0.9953680038452148}, {'label': 'Other', 'score': 0.9950590133666992}, {'label': 'Other', 'score': 0.9955293536186218}, {'label': 'Other', 'score': 0.9961034059524536}, {'label': 'Other', 'score': 0.9941224455833435}, {'label': 'Other', 'score': 0.9952996969223022}, {'label': 'Other', 'score': 0.9955921769142151}, {'label': 'Other', 'score': 0.9953745007514954}, {'label': 'Other', 'score': 0.9949665665626526}, {'label': 'Other', 'score': 0.9958367347717285}, {'label': 'Other', 'score': 0.9714862704277039}, {'label': 'Other', 'score': 0.9955999851226807}, {'label': 'Other', 'score': 0.9951006770133972}, {'label': 'Other', 'score': 0.9833440184593201}, {'label': 'Other', 'score': 0.9947366118431091}, {'label': 'Other', 'score': 0.9947959780693054}, {'label': 'Other', 'score': 0.9955964684486389}, {'label': 'Other', 'score': 0.99577796459198}, {'label': 'Other', 'score': 0.9943112134933472}, {'label': 'Other', 'score': 0.9956252574920654}, {'label': 'Other', 'score': 0.9951894283294678}, {'label': 'Other', 'score': 0.9892913699150085}, {'label': 'Other', 'score': 0.9942732453346252}, {'label': 'Other', 'score': 0.9951942563056946}, {'label': 'Other', 'score': 0.9963376522064209}, {'label': 'Other', 'score': 0.9956719875335693}, {'label': 'Other', 'score': 0.9938615560531616}, {'label': 'Other', 'score': 0.9954890608787537}, {'label': 'Other', 'score': 0.9954802989959717}, {'label': 'Military: Positive', 'score': 0.9721894860267639}, {'label': 'Other', 'score': 0.9957360029220581}, {'label': 'Other', 'score': 0.994200587272644}, {'label': 'Other', 'score': 0.9952783584594727}, {'label': 'Other', 'score': 0.9952449202537537}, {'label': 'Other', 'score': 0.9941813349723816}, {'label': 'Military: Positive', 'score': 0.9745209217071533}, {'label': 'Other', 'score': 0.9958376884460449}, {'label': 'Other', 'score': 0.9938780665397644}, {'label': 'Other', 'score': 0.9957901835441589}, {'label': 'Other', 'score': 0.9955921769142151}, {'label': 'Other', 'score': 0.9944185018539429}, {'label': 'Military: Positive', 'score': 0.9575082063674927}, {'label': 'Military: Positive', 'score': 0.9754972457885742}, {'label': 'Other', 'score': 0.9951961636543274}, {'label': 'Other', 'score': 0.9960405826568604}, {'label': 'Other', 'score': 0.9951275587081909}, {'label': 'Other', 'score': 0.995262861251831}, {'label': 'Other', 'score': 0.9955199956893921}, {'label': 'Other', 'score': 0.9954954385757446}, {'label': 'Other', 'score': 0.995558500289917}, {'label': 'Other', 'score': 0.9952314496040344}, {'label': 'Other', 'score': 0.9934908747673035}, {'label': 'Other', 'score': 0.9956966638565063}, {'label': 'Other', 'score': 0.9953963160514832}, {'label': 'Other', 'score': 0.994773805141449}, {'label': 'Other', 'score': 0.9957860112190247}, {'label': 'Military: Positive', 'score': 0.9514394998550415}, {'label': 'Other', 'score': 0.995305061340332}, {'label': 'Other', 'score': 0.995686411857605}, {'label': 'Other', 'score': 0.9958374500274658}, {'label': 'Other', 'score': 0.9948910474777222}, {'label': 'Other', 'score': 0.9846076369285583}, {'label': 'Other', 'score': 0.9953755140304565}, {'label': 'Other', 'score': 0.9953018426895142}, {'label': 'Other', 'score': 0.9960052371025085}, {'label': 'Military: Positive', 'score': 0.8859431743621826}, {'label': 'Other', 'score': 0.9956129789352417}, {'label': 'Military: Positive', 'score': 0.9120074510574341}, {'label': 'Other', 'score': 0.9957090616226196}, {'label': 'Other', 'score': 0.9951104521751404}, {'label': 'Other', 'score': 0.9958831071853638}, {'label': 'Other', 'score': 0.9958186745643616}, {'label': 'Other', 'score': 0.9956652522087097}, {'label': 'Other', 'score': 0.9924775958061218}, {'label': 'Other', 'score': 0.9956934452056885}, {'label': 'Other', 'score': 0.9948953986167908}, {'label': 'Other', 'score': 0.9954783320426941}, {'label': 'Other', 'score': 0.996035635471344}, {'label': 'Other', 'score': 0.995964765548706}, {'label': 'Other', 'score': 0.9948845505714417}, {'label': 'Other', 'score': 0.9953640699386597}, {'label': 'Other', 'score': 0.9955134987831116}, {'label': 'Other', 'score': 0.9958717226982117}, {'label': 'Other', 'score': 0.9946511387825012}, {'label': 'Other', 'score': 0.9939969778060913}, {'label': 'Other', 'score': 0.9949249029159546}, {'label': 'Other', 'score': 0.9956445693969727}, {'label': 'Other', 'score': 0.9948099851608276}, {'label': 'Military: Positive', 'score': 0.8292769193649292}, {'label': 'Other', 'score': 0.9949120879173279}, {'label': 'Military: Positive', 'score': 0.9748704433441162}, {'label': 'Other', 'score': 0.9951215386390686}, {'label': 'Other', 'score': 0.9952411651611328}, {'label': 'Other', 'score': 0.9961073994636536}, {'label': 'Other', 'score': 0.9450103044509888}, {'label': 'Other', 'score': 0.9955561757087708}, {'label': 'Other', 'score': 0.9950330257415771}, {'label': 'Other', 'score': 0.9952410459518433}, {'label': 'Other', 'score': 0.9954729676246643}, {'label': 'Other', 'score': 0.9955511093139648}, {'label': 'Other', 'score': 0.9949177503585815}, {'label': 'Other', 'score': 0.9950873255729675}, {'label': 'Other', 'score': 0.9921755194664001}, {'label': 'Other', 'score': 0.9955030083656311}, {'label': 'Other', 'score': 0.9955443739891052}, {'label': 'Other', 'score': 0.9954219460487366}, {'label': 'Other', 'score': 0.9954565763473511}, {'label': 'Other', 'score': 0.9960805773735046}, {'label': 'Other', 'score': 0.9954748749732971}, {'label': 'Military: Positive', 'score': 0.9646328091621399}, {'label': 'Other', 'score': 0.9957422614097595}, {'label': 'Other', 'score': 0.995111882686615}, {'label': 'Other', 'score': 0.9957440495491028}, {'label': 'Other', 'score': 0.9957078695297241}, {'label': 'Other', 'score': 0.9937157034873962}, {'label': 'Other', 'score': 0.9955101013183594}, {'label': 'Other', 'score': 0.995079517364502}, {'label': 'Other', 'score': 0.9954847097396851}, {'label': 'Other', 'score': 0.9957084655761719}, {'label': 'Military: Positive', 'score': 0.9620575904846191}, {'label': 'Other', 'score': 0.9956684112548828}, {'label': 'Other', 'score': 0.9951005578041077}, {'label': 'Military: Negative', 'score': 0.8533365726470947}, {'label': 'Other', 'score': 0.9949393272399902}, {'label': 'Other', 'score': 0.9949859380722046}, {'label': 'Other', 'score': 0.9945651292800903}, {'label': 'Other', 'score': 0.9950388073921204}, {'label': 'Other', 'score': 0.9940317273139954}, {'label': 'Other', 'score': 0.9838443398475647}, {'label': 'Other', 'score': 0.9945981502532959}, {'label': 'Other', 'score': 0.9951279163360596}, {'label': 'Other', 'score': 0.9952493906021118}, {'label': 'Other', 'score': 0.9947773218154907}, {'label': 'Other', 'score': 0.9947410821914673}, {'label': 'Other', 'score': 0.9950054287910461}, {'label': 'Other', 'score': 0.9947291016578674}, {'label': 'Other', 'score': 0.9958065748214722}, {'label': 'Other', 'score': 0.9959942102432251}, {'label': 'Other', 'score': 0.9958692193031311}, {'label': 'Other', 'score': 0.9951096177101135}, {'label': 'Other', 'score': 0.9956424236297607}, {'label': 'Other', 'score': 0.9955393671989441}, {'label': 'Other', 'score': 0.9957557916641235}, {'label': 'Other', 'score': 0.994202196598053}, {'label': 'Other', 'score': 0.9950279593467712}, {'label': 'Other', 'score': 0.9937059283256531}, {'label': 'Other', 'score': 0.9950637221336365}, {'label': 'Other', 'score': 0.9958686828613281}, {'label': 'Military: Positive', 'score': 0.6538390517234802}, {'label': 'Other', 'score': 0.9951598048210144}, {'label': 'Other', 'score': 0.9957234859466553}, {'label': 'Other', 'score': 0.9951494336128235}, {'label': 'Other', 'score': 0.9928561449050903}, {'label': 'Other', 'score': 0.996055006980896}, {'label': 'Military: Positive', 'score': 0.7773824334144592}, {'label': 'Other', 'score': 0.9948582649230957}, {'label': 'Other', 'score': 0.995368242263794}, {'label': 'Other', 'score': 0.9932247996330261}, {'label': 'Military: Positive', 'score': 0.9070405960083008}, {'label': 'Other', 'score': 0.9937024116516113}, {'label': 'Other', 'score': 0.9947748184204102}, {'label': 'Other', 'score': 0.9949709177017212}, {'label': 'Military: Negative', 'score': 0.8385559916496277}, {'label': 'Other', 'score': 0.9961940050125122}, {'label': 'Other', 'score': 0.9936957955360413}, {'label': 'Other', 'score': 0.9942584037780762}, {'label': 'Other', 'score': 0.9956957101821899}, {'label': 'Other', 'score': 0.9956538677215576}, {'label': 'Other', 'score': 0.995375394821167}, {'label': 'Other', 'score': 0.9954981803894043}, {'label': 'Other', 'score': 0.9954938888549805}, {'label': 'Other', 'score': 0.9958224296569824}, {'label': 'Other', 'score': 0.9932119846343994}, {'label': 'Other', 'score': 0.9959543943405151}, {'label': 'Other', 'score': 0.9961118102073669}, {'label': 'Other', 'score': 0.9951625466346741}, {'label': 'Other', 'score': 0.9944597482681274}, {'label': 'Other', 'score': 0.9951919317245483}, {'label': 'Other', 'score': 0.9256836175918579}, {'label': 'Other', 'score': 0.9960953593254089}, {'label': 'Other', 'score': 0.9953743815422058}, {'label': 'Other', 'score': 0.9956860542297363}, {'label': 'Other', 'score': 0.9955829977989197}, {'label': 'Other', 'score': 0.9946316480636597}, {'label': 'Other', 'score': 0.994780957698822}, {'label': 'Other', 'score': 0.9953059554100037}, {'label': 'Other', 'score': 0.9949731826782227}, {'label': 'Other', 'score': 0.9958152174949646}, {'label': 'Other', 'score': 0.9954615235328674}, {'label': 'Other', 'score': 0.9935585856437683}, {'label': 'Other', 'score': 0.9954311847686768}, {'label': 'Other', 'score': 0.9943910241127014}, {'label': 'Other', 'score': 0.9950238466262817}, {'label': 'Other', 'score': 0.9947878122329712}, {'label': 'Other', 'score': 0.99491947889328}, {'label': 'Other', 'score': 0.9943082928657532}, {'label': 'Other', 'score': 0.9953246116638184}, {'label': 'Military: Positive', 'score': 0.9753531813621521}, {'label': 'Other', 'score': 0.9951269626617432}, {'label': 'Other', 'score': 0.9940783977508545}, {'label': 'Other', 'score': 0.9956617951393127}, {'label': 'Other', 'score': 0.9887096285820007}, {'label': 'Other', 'score': 0.9948864579200745}, {'label': 'Other', 'score': 0.9950016140937805}, {'label': 'Other', 'score': 0.9955154061317444}, {'label': 'Other', 'score': 0.995357096195221}, {'label': 'Other', 'score': 0.9960325360298157}, {'label': 'Other', 'score': 0.9950776696205139}, {'label': 'Other', 'score': 0.9959344863891602}, {'label': 'Other', 'score': 0.9954096674919128}, {'label': 'Other', 'score': 0.9957375526428223}, {'label': 'Other', 'score': 0.9956638216972351}, {'label': 'Other', 'score': 0.995387613773346}, {'label': 'Other', 'score': 0.9957690238952637}, {'label': 'Other', 'score': 0.9955971837043762}, {'label': 'Other', 'score': 0.9949963092803955}, {'label': 'Other', 'score': 0.9924885034561157}, {'label': 'Other', 'score': 0.9957247972488403}, {'label': 'Other', 'score': 0.9954268932342529}, {'label': 'Other', 'score': 0.9961172342300415}, {'label': 'Other', 'score': 0.9953683614730835}, {'label': 'Other', 'score': 0.9951691031455994}, {'label': 'Other', 'score': 0.995040237903595}, {'label': 'Other', 'score': 0.9949517250061035}, {'label': 'Other', 'score': 0.995794415473938}, {'label': 'Other', 'score': 0.9950992465019226}, {'label': 'Military: Negative', 'score': 0.8796663880348206}, {'label': 'Other', 'score': 0.9952031373977661}, {'label': 'Other', 'score': 0.9959114789962769}, {'label': 'Other', 'score': 0.9956287145614624}, {'label': 'Other', 'score': 0.995349109172821}, {'label': 'Other', 'score': 0.9955410361289978}, {'label': 'Other', 'score': 0.9958083629608154}, {'label': 'Other', 'score': 0.9959838390350342}, {'label': 'Other', 'score': 0.9954924583435059}, {'label': 'Other', 'score': 0.9954786896705627}, {'label': 'Other', 'score': 0.9948832988739014}, {'label': 'Other', 'score': 0.9958035349845886}, {'label': 'Other', 'score': 0.9948917627334595}, {'label': 'Other', 'score': 0.9944353103637695}, {'label': 'Other', 'score': 0.9953879714012146}, {'label': 'Other', 'score': 0.9955026507377625}, {'label': 'Other', 'score': 0.9954614043235779}, {'label': 'Other', 'score': 0.9955874681472778}, {'label': 'Other', 'score': 0.9953557252883911}, {'label': 'Other', 'score': 0.9957274198532104}, {'label': 'Other', 'score': 0.995210587978363}, {'label': 'Other', 'score': 0.9905097484588623}, {'label': 'Other', 'score': 0.9953115582466125}, {'label': 'Other', 'score': 0.9953704476356506}, {'label': 'Other', 'score': 0.9949309229850769}, {'label': 'Other', 'score': 0.9933011531829834}, {'label': 'Military: Positive', 'score': 0.9719255566596985}, {'label': 'Military: Positive', 'score': 0.9557095766067505}, {'label': 'Other', 'score': 0.9957256317138672}, {'label': 'Other', 'score': 0.9953452944755554}, {'label': 'Other', 'score': 0.9952800273895264}, {'label': 'Other', 'score': 0.9955286383628845}, {'label': 'Other', 'score': 0.9958209991455078}, {'label': 'Military: Negative', 'score': 0.8365593552589417}, {'label': 'Military: Positive', 'score': 0.977275550365448}, {'label': 'Other', 'score': 0.9947503209114075}, {'label': 'Other', 'score': 0.9955824017524719}, {'label': 'Other', 'score': 0.99516761302948}, {'label': 'Other', 'score': 0.9953218102455139}, {'label': 'Other', 'score': 0.9955306649208069}, {'label': 'Other', 'score': 0.9959155917167664}, {'label': 'Other', 'score': 0.9952455163002014}, {'label': 'Military: Positive', 'score': 0.9729567170143127}, {'label': 'Other', 'score': 0.9953138828277588}, {'label': 'Other', 'score': 0.9939047694206238}, {'label': 'Other', 'score': 0.9956247210502625}, {'label': 'Other', 'score': 0.9950841069221497}, {'label': 'Other', 'score': 0.9959316849708557}, {'label': 'Other', 'score': 0.991230845451355}, {'label': 'Military: Positive', 'score': 0.9544840455055237}, {'label': 'Other', 'score': 0.9944556355476379}, {'label': 'Other', 'score': 0.9954740405082703}, {'label': 'Other', 'score': 0.9963363409042358}, {'label': 'Other', 'score': 0.9954153299331665}, {'label': 'Other', 'score': 0.9949737787246704}, {'label': 'Military: Positive', 'score': 0.9453959465026855}, {'label': 'Other', 'score': 0.9948756098747253}, {'label': 'Other', 'score': 0.9958314299583435}, {'label': 'Other', 'score': 0.9954627156257629}, {'label': 'Other', 'score': 0.9962779879570007}, {'label': 'Other', 'score': 0.9948086738586426}, {'label': 'Other', 'score': 0.9951050281524658}, {'label': 'Other', 'score': 0.9958763122558594}, {'label': 'Other', 'score': 0.9960572719573975}, {'label': 'Other', 'score': 0.9946445226669312}, {'label': 'Other', 'score': 0.9953857064247131}, {'label': 'Other', 'score': 0.9958490133285522}, {'label': 'Other', 'score': 0.9948937892913818}, {'label': 'Other', 'score': 0.9958167672157288}, {'label': 'Other', 'score': 0.9949188828468323}, {'label': 'Other', 'score': 0.9933434724807739}, {'label': 'Other', 'score': 0.9945605397224426}, {'label': 'Other', 'score': 0.9952470660209656}, {'label': 'Military: Positive', 'score': 0.9368270635604858}, {'label': 'Military: Positive', 'score': 0.9781408309936523}, {'label': 'Other', 'score': 0.995369017124176}, {'label': 'Other', 'score': 0.994460940361023}, {'label': 'Other', 'score': 0.9950476884841919}, {'label': 'Military: Positive', 'score': 0.82169508934021}, {'label': 'Other', 'score': 0.9953631162643433}, {'label': 'Other', 'score': 0.9952017068862915}, {'label': 'Other', 'score': 0.9950850605964661}, {'label': 'Other', 'score': 0.9947393536567688}, {'label': 'Other', 'score': 0.9953626394271851}, {'label': 'Other', 'score': 0.9946789741516113}, {'label': 'Other', 'score': 0.9957250356674194}, {'label': 'Military: Positive', 'score': 0.6812284588813782}, {'label': 'Other', 'score': 0.9958606362342834}, {'label': 'Military: Positive', 'score': 0.9479876160621643}, {'label': 'Other', 'score': 0.9951731562614441}, {'label': 'Other', 'score': 0.9953232407569885}, {'label': 'Other', 'score': 0.9950065612792969}, {'label': 'Other', 'score': 0.9952854514122009}, {'label': 'Other', 'score': 0.9956645369529724}, {'label': 'Other', 'score': 0.9951558113098145}, {'label': 'Other', 'score': 0.9958071708679199}, {'label': 'Military: Positive', 'score': 0.9715501666069031}, {'label': 'Other', 'score': 0.9957777261734009}, {'label': 'Other', 'score': 0.9948498606681824}, {'label': 'Other', 'score': 0.9951120018959045}, {'label': 'Other', 'score': 0.9940963983535767}, {'label': 'Other', 'score': 0.9952008724212646}, {'label': 'Other', 'score': 0.9960070252418518}, {'label': 'Other', 'score': 0.9944368600845337}, {'label': 'Other', 'score': 0.9953033924102783}, {'label': 'Other', 'score': 0.9955257773399353}, {'label': 'Other', 'score': 0.9953232407569885}, {'label': 'Other', 'score': 0.9949249029159546}, {'label': 'Other', 'score': 0.9937334656715393}, {'label': 'Military: Positive', 'score': 0.9577135443687439}, {'label': 'Other', 'score': 0.9956884980201721}, {'label': 'Other', 'score': 0.9953262805938721}, {'label': 'Other', 'score': 0.9926733374595642}, {'label': 'Military: Positive', 'score': 0.9600025415420532}, {'label': 'Military: Positive', 'score': 0.9745279550552368}, {'label': 'Other', 'score': 0.9951556921005249}, {'label': 'Other', 'score': 0.994683563709259}, {'label': 'Other', 'score': 0.9941820502281189}, {'label': 'Military: Positive', 'score': 0.9490281939506531}, {'label': 'Other', 'score': 0.9958158135414124}, {'label': 'Other', 'score': 0.9940890073776245}, {'label': 'Military: Positive', 'score': 0.9399800896644592}, {'label': 'Military: Positive', 'score': 0.9209137558937073}, {'label': 'Other', 'score': 0.9953545331954956}, {'label': 'Other', 'score': 0.9955376386642456}, {'label': 'Other', 'score': 0.9956327080726624}, {'label': 'Other', 'score': 0.995966911315918}, {'label': 'Other', 'score': 0.9956095814704895}, {'label': 'Military: Positive', 'score': 0.9396808743476868}, {'label': 'Other', 'score': 0.9951438903808594}, {'label': 'Other', 'score': 0.9956926703453064}, {'label': 'Other', 'score': 0.9954402446746826}, {'label': 'Other', 'score': 0.9959412813186646}, {'label': 'Other', 'score': 0.991733193397522}, {'label': 'Other', 'score': 0.9959446787834167}, {'label': 'Other', 'score': 0.9955956339836121}, {'label': 'Other', 'score': 0.99535071849823}, {'label': 'Other', 'score': 0.9959763884544373}, {'label': 'Other', 'score': 0.9954450130462646}, {'label': 'Other', 'score': 0.9955294728279114}, {'label': 'Other', 'score': 0.9951483607292175}, {'label': 'Other', 'score': 0.9941556453704834}, {'label': 'Other', 'score': 0.9955116510391235}, {'label': 'Other', 'score': 0.9946320056915283}, {'label': 'Other', 'score': 0.9956896901130676}, {'label': 'Other', 'score': 0.9943610429763794}, {'label': 'Other', 'score': 0.9950326681137085}, {'label': 'Other', 'score': 0.9956402778625488}, {'label': 'Other', 'score': 0.9951748251914978}, {'label': 'Other', 'score': 0.9957582354545593}, {'label': 'Other', 'score': 0.9957627654075623}, {'label': 'Other', 'score': 0.9954401254653931}, {'label': 'Military: Positive', 'score': 0.8126177191734314}, {'label': 'Other', 'score': 0.9960411787033081}, {'label': 'Other', 'score': 0.9950464963912964}, {'label': 'Other', 'score': 0.994404673576355}, {'label': 'Other', 'score': 0.992938756942749}, {'label': 'Military: Negative', 'score': 0.5118865966796875}, {'label': 'Other', 'score': 0.9954838752746582}, {'label': 'Military: Positive', 'score': 0.6899045705795288}, {'label': 'Other', 'score': 0.9954795837402344}, {'label': 'Other', 'score': 0.9959664344787598}, {'label': 'Other', 'score': 0.9955682158470154}, {'label': 'Other', 'score': 0.9940370321273804}, {'label': 'Other', 'score': 0.9506237506866455}, {'label': 'Military: Positive', 'score': 0.9703750610351562}, {'label': 'Other', 'score': 0.9949856996536255}, {'label': 'Other', 'score': 0.995914876461029}, {'label': 'Other', 'score': 0.9908018708229065}, {'label': 'Other', 'score': 0.9941927790641785}, {'label': 'Other', 'score': 0.9959774613380432}, {'label': 'Other', 'score': 0.9913271069526672}, {'label': 'Other', 'score': 0.9957278966903687}, {'label': 'Other', 'score': 0.995002806186676}, {'label': 'Other', 'score': 0.9956337809562683}, {'label': 'Other', 'score': 0.9953761100769043}, {'label': 'Other', 'score': 0.9957887530326843}, {'label': 'Other', 'score': 0.9947202205657959}, {'label': 'Other', 'score': 0.995880126953125}, {'label': 'Other', 'score': 0.993934690952301}, {'label': 'Other', 'score': 0.9959161877632141}, {'label': 'Other', 'score': 0.9955846667289734}, {'label': 'Other', 'score': 0.9932987093925476}, {'label': 'Other', 'score': 0.9957166314125061}, {'label': 'Other', 'score': 0.9946250319480896}, {'label': 'Other', 'score': 0.9953526258468628}, {'label': 'Other', 'score': 0.9950813055038452}, {'label': 'Other', 'score': 0.9948515295982361}, {'label': 'Other', 'score': 0.9954320192337036}, {'label': 'Other', 'score': 0.9943834543228149}, {'label': 'Other', 'score': 0.9956589937210083}, {'label': 'Other', 'score': 0.9948616623878479}, {'label': 'Other', 'score': 0.9951220154762268}, {'label': 'Other', 'score': 0.9958330988883972}, {'label': 'Other', 'score': 0.9950488209724426}, {'label': 'Other', 'score': 0.995235025882721}, {'label': 'Other', 'score': 0.9957975149154663}, {'label': 'Other', 'score': 0.9951438903808594}, {'label': 'Other', 'score': 0.9960929751396179}, {'label': 'Other', 'score': 0.9949821829795837}, {'label': 'Other', 'score': 0.993933379650116}, {'label': 'Other', 'score': 0.993815541267395}, {'label': 'Other', 'score': 0.9946882724761963}, {'label': 'Other', 'score': 0.9949347376823425}, {'label': 'Other', 'score': 0.9951416254043579}, {'label': 'Other', 'score': 0.9958634376525879}, {'label': 'Other', 'score': 0.9954952001571655}, {'label': 'Other', 'score': 0.9946415424346924}, {'label': 'Other', 'score': 0.9954417943954468}, {'label': 'Other', 'score': 0.9958143830299377}, {'label': 'Other', 'score': 0.9955049157142639}, {'label': 'Other', 'score': 0.995868980884552}, {'label': 'Military: Positive', 'score': 0.8387327194213867}, {'label': 'Other', 'score': 0.9956188797950745}, {'label': 'Other', 'score': 0.9950551986694336}, {'label': 'Military: Positive', 'score': 0.9180215001106262}, {'label': 'Other', 'score': 0.9934347867965698}, {'label': 'Other', 'score': 0.996062695980072}, {'label': 'Other', 'score': 0.9947687387466431}, {'label': 'Other', 'score': 0.9321991205215454}, {'label': 'Other', 'score': 0.9952152967453003}, {'label': 'Other', 'score': 0.9945831894874573}, {'label': 'Other', 'score': 0.9956294298171997}, {'label': 'Other', 'score': 0.9953796863555908}, {'label': 'Other', 'score': 0.9946354031562805}, {'label': 'Other', 'score': 0.9950200319290161}, {'label': 'Other', 'score': 0.9945409893989563}, {'label': 'Other', 'score': 0.9934321641921997}, {'label': 'Other', 'score': 0.9960044026374817}, {'label': 'Other', 'score': 0.9946799874305725}, {'label': 'Other', 'score': 0.9956413507461548}, {'label': 'Other', 'score': 0.9954425096511841}, {'label': 'Other', 'score': 0.9958699345588684}, {'label': 'Other', 'score': 0.9956711530685425}, {'label': 'Other', 'score': 0.9951537847518921}]\n"
          ]
        }
      ]
    },
    {
      "cell_type": "code",
      "source": [
        "df_inference"
      ],
      "metadata": {
        "id": "TenfEfSMNnuw"
      },
      "execution_count": null,
      "outputs": []
    },
    {
      "cell_type": "code",
      "source": [
        "raise Exception(\"Stopping code here to avoid accidental runs of the code below\")"
      ],
      "metadata": {
        "colab": {
          "base_uri": "https://localhost:8080/",
          "height": 169
        },
        "id": "a5jSsFxmA_KV",
        "outputId": "ee7e6398-6eb7-4d57-ffb0-f6d0b5d90231"
      },
      "execution_count": 22,
      "outputs": [
        {
          "output_type": "error",
          "ename": "Exception",
          "evalue": "ignored",
          "traceback": [
            "\u001b[0;31m---------------------------------------------------------------------------\u001b[0m",
            "\u001b[0;31mException\u001b[0m                                 Traceback (most recent call last)",
            "\u001b[0;32m<ipython-input-22-123d4d47c475>\u001b[0m in \u001b[0;36m<cell line: 1>\u001b[0;34m()\u001b[0m\n\u001b[0;32m----> 1\u001b[0;31m \u001b[0;32mraise\u001b[0m \u001b[0mException\u001b[0m\u001b[0;34m(\u001b[0m\u001b[0;34m\"Stopping code here to avoid accidental runs of the code below\"\u001b[0m\u001b[0;34m)\u001b[0m\u001b[0;34m\u001b[0m\u001b[0;34m\u001b[0m\u001b[0m\n\u001b[0m",
            "\u001b[0;31mException\u001b[0m: Stopping code here to avoid accidental runs of the code below"
          ]
        }
      ]
    },
    {
      "cell_type": "markdown",
      "source": [
        "## Save and load your fine-tuned model"
      ],
      "metadata": {
        "id": "k__JobJ6vuPi"
      }
    },
    {
      "cell_type": "markdown",
      "source": [
        "This segment provides code for saving the model to your hard-disk or for uploading it to the Hugging Face hub. "
      ],
      "metadata": {
        "id": "QQdcTrT-yWW7"
      }
    },
    {
      "cell_type": "code",
      "source": [
        "## first you need to connect to your google drive with your google account\n",
        "from google.colab import drive\n",
        "import os\n",
        "drive.mount('/content/drive', force_remount=False)\n",
        "#drive.flush_and_unmount()\n",
        "\n",
        "# insert the path where you want to save the model\n",
        "os.chdir(\"/content/drive/My Drive/\")  \n",
        "print(os.getcwd())\n"
      ],
      "metadata": {
        "id": "9NzeLxsLysX-"
      },
      "execution_count": null,
      "outputs": []
    },
    {
      "cell_type": "code",
      "source": [
        "### save best model to google drive\n",
        "directory_save_model = f\"{training_directory}/\"\n",
        "model_name_custom = f\"{model_name.split('/')[-1]}-custom\"\n",
        "mode_custom_path = directory_save_model + model_name_custom\n",
        "\n",
        "trainer.save_model(output_dir=mode_custom_path)"
      ],
      "metadata": {
        "id": "-N6_0rWevyuD"
      },
      "execution_count": null,
      "outputs": []
    },
    {
      "cell_type": "code",
      "source": [
        "### Push to Hugging Face hub\n",
        "# install necessary dependencies\n",
        "# you need to create an account on https://huggingface.co/ for this\n",
        "!sudo apt-get install git-lfs\n",
        "!huggingface-cli login"
      ],
      "metadata": {
        "id": "-sj7P7u1xWAS"
      },
      "execution_count": null,
      "outputs": []
    },
    {
      "cell_type": "code",
      "source": [
        "# load your models and tokenizer saved before from disk\n",
        "model = AutoModelForSequenceClassification.from_pretrained(mode_custom_path)\n",
        "tokenizer = AutoTokenizer.from_pretrained(mode_custom_path, use_fast=True, model_max_length=512)  # we load the tokenizer from the original BERT-NLI model"
      ],
      "metadata": {
        "id": "d_nAvq0YQTQf"
      },
      "execution_count": null,
      "outputs": []
    },
    {
      "cell_type": "code",
      "source": [
        "# https://huggingface.co/docs/transformers/main_classes/model#transformers.PreTrainedModel.push_to_hub\n",
        "repo_id = '<your-user-name>/<your-model-name>'  # e.g. \"JaneJones/DeBERTa-v3-nli-custom\". note that the repo name is case-sensitive\n",
        "model.push_to_hub(repo_id=repo_id, use_temp_dir=True, private=True, use_auth_token=\"<your-huggingface-token>\")\n",
        "tokenizer.push_to_hub(repo_id=repo_id, use_temp_dir=True, private=True, use_auth_token=\"<your-huggingface-token>\")\n"
      ],
      "metadata": {
        "id": "040Vwn-pxTfX"
      },
      "execution_count": null,
      "outputs": []
    },
    {
      "cell_type": "markdown",
      "source": [
        "## Bonus: Hyperparameter Search"
      ],
      "metadata": {
        "id": "qkTjWn2VVZ9g"
      }
    },
    {
      "cell_type": "markdown",
      "source": [
        "To increase performance, you can also conduct a hyperparameter search (hp-search), to try and find the best hyperparameters for your specific task and dataset. The trade-off is that hp-search is very compute intensive, but finding better hyperparameters for your task can increase performance. Make sure to conduct hp-search on a sub-set of the training set (i.e. validation set) and not the final test set to avoid data leakage of the test set before final testing.\n",
        "\n",
        "Note that for small datasets, running the hp-search only on one train-validation split is not ideal. For datasets with less than around 2000 training data points, we recommend running the hp-search on two different random train-validation split. We implemented this for our paper, but not in this notebook as this would make the code harder to understand. \n",
        "\n",
        "Documentation with more information on hp-search with Hugging Face Transformers is available [here](https://huggingface.co/docs/transformers/main/hpo_train). "
      ],
      "metadata": {
        "id": "9TUHQYU2WKkQ"
      }
    },
    {
      "cell_type": "code",
      "source": [
        "## train-validation split - test set should not be visible during hp-search\n",
        "# https://huggingface.co/docs/datasets/v2.5.1/en/package_reference/main_classes#datasets.Dataset.train_test_split\n",
        "\n",
        "# the ideal size of the validation set depends on the size of your training data. Each label should have at the very least a few dozen examples in the validation set (ideally several hundred)\n",
        "validation_set_size = 0.4  # for a training data size of 1000 with 3 classes we use 40% of the training data for validating hyperparameters\n",
        "\n",
        "# reformatting of label column to enable dataset stratification\n",
        "from datasets import ClassLabel\n",
        "new_features = dataset[\"train\"].features.copy()\n",
        "label_names = list(model.config.label2id.keys())\n",
        "\n",
        "new_features['label'] = ClassLabel(names=label_names)\n",
        "dataset = dataset.cast(new_features)\n",
        "\n",
        "# train-validation split for hp-search\n",
        "dataset_hp = dataset[\"train\"].train_test_split(test_size=validation_set_size, seed=SEED_GLOBAL, shuffle=True, stratify_by_column=\"label\") \n",
        "print(dataset_hp)"
      ],
      "metadata": {
        "id": "_igmvJD2YSYO"
      },
      "execution_count": null,
      "outputs": []
    },
    {
      "cell_type": "code",
      "source": [
        "# helper function to clean memory and reduce risk of out-of-memory error\n",
        "import gc\n",
        "def clean_memory():\n",
        "  #del(model)\n",
        "  if torch.cuda.is_available():\n",
        "    torch.cuda.empty_cache()\n",
        "    torch.cuda.ipc_collect()\n",
        "  gc.collect()\n",
        "\n",
        "clean_memory()"
      ],
      "metadata": {
        "id": "D-WAgcsVs1Zr"
      },
      "execution_count": null,
      "outputs": []
    },
    {
      "cell_type": "code",
      "source": [
        "## Reinitialize trainer for hp-search\n",
        "# https://discuss.huggingface.co/t/using-hyperparameter-search-in-trainer/785/10\n",
        "\n",
        "def model_init():\n",
        "    clean_memory()\n",
        "\n",
        "    # link the numeric labels to the label texts\n",
        "    label_text = np.sort(df_test.label_text.unique()).tolist()\n",
        "    label2id = dict(zip(np.sort(label_text), np.sort(pd.factorize(label_text, sort=True)[0]).tolist()))\n",
        "    id2label = dict(zip(np.sort(pd.factorize(label_text, sort=True)[0]).tolist(), np.sort(label_text)))\n",
        "    config = AutoConfig.from_pretrained(model_name, label2id=label2id, id2label=id2label, num_labels=len(label2id));\n",
        "\n",
        "    return AutoModelForSequenceClassification.from_pretrained(model_name, config=config, ignore_mismatched_sizes=True).to(device)\n",
        "\n",
        "trainer = Trainer( \n",
        "    model_init=model_init,\n",
        "    tokenizer=tokenizer,\n",
        "    args=train_args,\n",
        "    train_dataset=dataset_hp[\"train\"],\n",
        "    eval_dataset=dataset_hp[\"test\"],\n",
        "    compute_metrics=compute_metrics_standard  \n",
        ");\n"
      ],
      "metadata": {
        "id": "aX31mUPb7r6C"
      },
      "execution_count": null,
      "outputs": []
    },
    {
      "cell_type": "markdown",
      "source": [
        "**Define the hyperparameters you want to optimise**\n",
        "\n",
        "For a detailed discussion of different hyperparameters, see the appendix of our paper."
      ],
      "metadata": {
        "id": "_AL-t2KBeMqM"
      }
    },
    {
      "cell_type": "code",
      "source": [
        "# we use Optuna for hp-search: https://optuna.readthedocs.io/en/stable/\n",
        "def my_hp_space(trial):\n",
        "    return {\n",
        "        \"learning_rate\": trial.suggest_categorical(\"learning_rate\", [9e-6, 2e-5, 4e-5]),\n",
        "        \"num_train_epochs\": trial.suggest_int(\"num_train_epochs\", 4, 24, log=False, step=4),   # increasing the maximum number of epochs here could increase performance but will take (much) longer to train\n",
        "        #\"warmup_ratio\": trial.suggest_float(\"warmup_ratio\", 0.1, 0.6, log=True),\n",
        "        \"per_device_train_batch_size\": 16,  # lower this value in case of out-of-memory errors and restart the runtime\n",
        "        #\"per_device_train_batch_size\": trial.suggest_categorical(\"per_device_train_batch_size\", [8, 16, 32]),\n",
        "        \"evaluation_strategy\": \"no\",\n",
        "        \"save_strategy\": \"no\",\n",
        "    }\n"
      ],
      "metadata": {
        "id": "LqIHNkWFahaD"
      },
      "execution_count": null,
      "outputs": []
    },
    {
      "cell_type": "markdown",
      "source": [
        "**Run HP search!**\n",
        "\n",
        "Choose the number of hyperparameter configurations you want to test. In our experiments we found that after 10 to 15 trials with around 4 hyperparameters, performance is unlikely to increase meaningfully. 15 trials seems to be a safe value, but can take a while to run. "
      ],
      "metadata": {
        "id": "3vo_UH43d9yB"
      }
    },
    {
      "cell_type": "code",
      "source": [
        "import optuna\n",
        "\n",
        "# number of differen hp configurations to test\n",
        "numer_of_trials = 10  # increasing this value can lead to better hyperparameters, but will take longer\n",
        "# chose the sampler for sampling hp configurations\n",
        "optuna_sampler = optuna.samplers.TPESampler(\n",
        "    seed=SEED_GLOBAL, consider_prior=True, prior_weight=1.0, consider_magic_clip=True, \n",
        "    consider_endpoints=False, n_startup_trials=numer_of_trials/2, n_ei_candidates=24, \n",
        "    multivariate=False, group=False, warn_independent_sampling=True, constant_liar=False\n",
        ")  # https://optuna.readthedocs.io/en/stable/reference/generated/optuna.samplers.TPESampler.html#optuna.samplers.TPESampler\n",
        "\n",
        "# Hugging Face Documentation: https://huggingface.co/docs/transformers/main/en/main_classes/trainer#transformers.Trainer.hyperparameter_search\n",
        "best_run = trainer.hyperparameter_search(\n",
        "    n_trials=numer_of_trials,\n",
        "    direction=\"maximize\", \n",
        "    hp_space=my_hp_space,\n",
        "    backend='optuna',\n",
        "    **{\"sampler\": optuna_sampler}\n",
        ")"
      ],
      "metadata": {
        "id": "B0gvfJ9xGuM3"
      },
      "execution_count": null,
      "outputs": []
    },
    {
      "cell_type": "code",
      "source": [
        "# show best hyperparameters based on hp-search\n",
        "print(best_run)"
      ],
      "metadata": {
        "id": "AjG3MjZQK-8J"
      },
      "execution_count": null,
      "outputs": []
    },
    {
      "cell_type": "markdown",
      "source": [
        "**Training Time with optimised hyperparameters!**\n",
        "\n",
        "Here we can use the original train and test set again."
      ],
      "metadata": {
        "id": "J8SWpFU7ep0k"
      }
    },
    {
      "cell_type": "code",
      "source": [
        "# update the training arguments with the best hyperparameters\n",
        "for k,v in best_run.hyperparameters.items():\n",
        "    setattr(train_args, k, v)\n",
        "print(\"\\n\", train_args)\n",
        "\n",
        "# hp-search with hf causes errors with FP16 for some reason\n",
        "#setattr(train_args, \"fp16\", False)\n",
        "#setattr(train_args, \"fp16_full_eval\", False)"
      ],
      "metadata": {
        "id": "E5cmYQpse1HN"
      },
      "execution_count": null,
      "outputs": []
    },
    {
      "cell_type": "code",
      "source": [
        "# reinitialize the model to avoid re-using a trained model from a step further above\n",
        "#model_name = \"XXX\"  \n",
        "tokenizer = AutoTokenizer.from_pretrained(model_name, use_fast=True, model_max_length=512)\n",
        "\n",
        "# link the numeric labels to the label texts\n",
        "label_text = np.sort(df_test.label_text.unique()).tolist()\n",
        "label2id = dict(zip(np.sort(label_text), np.sort(pd.factorize(label_text, sort=True)[0]).tolist()))\n",
        "id2label = dict(zip(np.sort(pd.factorize(label_text, sort=True)[0]).tolist(), np.sort(label_text)))\n",
        "config = AutoConfig.from_pretrained(model_name, label2id=label2id, id2label=id2label, num_labels=len(label2id));\n",
        "\n",
        "# load model with config\n",
        "model = AutoModelForSequenceClassification.from_pretrained(model_name, config=config, ignore_mismatched_sizes=True);\n"
      ],
      "metadata": {
        "id": "tPpkHag7crY5"
      },
      "execution_count": null,
      "outputs": []
    },
    {
      "cell_type": "code",
      "source": [
        "# Training\n",
        "trainer = Trainer( \n",
        "    model=model,\n",
        "    tokenizer=tokenizer,\n",
        "    args=train_args,\n",
        "    train_dataset=dataset[\"train\"],  #.shard(index=1, num_shards=100),  # https://huggingface.co/docs/datasets/processing.html#sharding-the-dataset-shard\n",
        "    eval_dataset=dataset[\"test\"],  #.shard(index=1, num_shards=100),  \n",
        "    compute_metrics=lambda eval_pred: compute_metrics_nli_binary(eval_pred, label_text_alphabetical=label_text_alphabetical)  \n",
        ")\n",
        "\n",
        "trainer.train()\n"
      ],
      "metadata": {
        "id": "e3ymtsQtxVzx"
      },
      "execution_count": null,
      "outputs": []
    },
    {
      "cell_type": "code",
      "source": [
        "## Evaluate the fine-tuned model on the held-out test set\n",
        "results = trainer.evaluate()\n"
      ],
      "metadata": {
        "id": "dhCLUKZG__v1"
      },
      "execution_count": null,
      "outputs": []
    },
    {
      "cell_type": "code",
      "source": [
        "print(results)"
      ],
      "metadata": {
        "id": "kWzFrtCY-HKv"
      },
      "execution_count": null,
      "outputs": []
    },
    {
      "cell_type": "markdown",
      "source": [
        "Note that hyperparameter searches do not necessarily lead to better results, as they need to be searched on a smaller validation set of the train set, which might impact generalisation. Especially for smaller training sets, hyperparameter searches might lead to similar values as good default values. The default values discussed in the paper often provide good results. "
      ],
      "metadata": {
        "id": "_8WF9C-cxdSl"
      }
    }
  ]
}